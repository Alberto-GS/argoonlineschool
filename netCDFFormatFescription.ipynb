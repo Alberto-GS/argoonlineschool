{
 "cells": [
  {
   "cell_type": "markdown",
   "metadata": {},
   "source": [
    "# NetCDF format description\n",
    "\n",
    "## What is NetCDF\n",
    "\n",
    "![NetCDFLogo](https://www.unidata.ucar.edu/images/logos/netcdf-150x150.png)\n",
    "\n",
    "It stands for **Network Common Data Form** and it is a set of software libraries and machine-independent data formats that support the creation, access, and sharing of array-oriented scientific data. It is also a community standard for sharing scientific data.  \n",
    "\n",
    "NetCDF is maintanied by **Unidata**, one of the University Corporation for Atmospheric Research (UCAR)'s Community Programs (UCP). Unidata also supports and maintains netCDF programming interfaces for C, C++, Java, and Fortran. Programming interfaces are also available for Python, IDL, MATLAB, R, Ruby, and Perl.\n",
    "\n",
    "https://www.unidata.ucar.edu/"
   ]
  },
  {
   "cell_type": "markdown",
   "metadata": {},
   "source": [
    "## How is the netCDF format?\n",
    "\n",
    "**Self-Describing** A netCDF file includes information about the data it contains.\n",
    "\n",
    "**Portable** A netCDF file can be accessed by computers with different ways of storing integers, characters, and floating-point numbers.\n",
    "\n",
    "**Scalable** Small subsets of large datasets in various formats may be accessed efficiently through netCDF interfaces, even from remote servers.\n",
    "\n",
    "**Appendable** Data may be appended to a properly structured netCDF file without copying the dataset or redefining its structure.\n",
    "\n",
    "**Sharable** One writer and multiple readers may simultaneously access the same netCDF file.\n",
    "\n",
    "**Archivable** Access to all earlier forms of netCDF data will be supported by current and future versions of the software"
   ]
  },
  {
   "cell_type": "markdown",
   "metadata": {},
   "source": [
    "## Using netCDF data\n",
    "\n",
    "Let's see most of these properties of a netcf file by using data from the **NOAA OI SST V2 High Resolution Dataset**,  \n",
    "that is a High-resolution Blended Analysis of Daily SST and Ice, [more details here](https://www.psl.noaa.gov/data/gridded/data.noaa.oisst.v2.highres.html#detail)\n",
    "\n",
    "I have pre-downloaded the daily data from 2019. Yo can use this code for dowloading it:\n",
    "\n",
    "`! wget ftp://ftp2.psl.noaa.gov/Datasets/noaa.oisst.v2.highres/sst.day.mean.2019.nc `"
   ]
  },
  {
   "cell_type": "code",
   "execution_count": 14,
   "metadata": {},
   "outputs": [],
   "source": [
    "fileExampleNC='./Data/sst.day.mean.2019.nc'"
   ]
  },
  {
   "cell_type": "markdown",
   "metadata": {},
   "source": [
    "There area several methods to read netCDF data in python. Here we will show two of them. In the first one, we will use [netcdf4-python](https://unidata.github.io/netcdf4-python/netCDF4/), a Python interface to the netCDF C library."
   ]
  },
  {
   "cell_type": "markdown",
   "metadata": {},
   "source": [
    "### First, import libraries"
   ]
  },
  {
   "cell_type": "code",
   "execution_count": 15,
   "metadata": {},
   "outputs": [],
   "source": [
    "import netCDF4\n",
    "import numpy as np"
   ]
  },
  {
   "cell_type": "code",
   "execution_count": 16,
   "metadata": {},
   "outputs": [
    {
     "data": {
      "text/plain": [
       "netCDF4._netCDF4.Dataset"
      ]
     },
     "execution_count": 16,
     "metadata": {},
     "output_type": "execute_result"
    }
   ],
   "source": [
    "SST = netCDF4.Dataset(fileExampleNC)\n",
    "type(test)"
   ]
  },
  {
   "cell_type": "markdown",
   "metadata": {},
   "source": [
    "- **`SST`** is a `Dataset` object, representing an open netCDF file.\n",
    "- printing the object gives you summary information"
   ]
  },
  {
   "cell_type": "code",
   "execution_count": 8,
   "metadata": {},
   "outputs": [
    {
     "name": "stdout",
     "output_type": "stream",
     "text": [
      "<class 'netCDF4._netCDF4.Dataset'>\n",
      "root group (NETCDF4_CLASSIC data model, file format HDF5):\n",
      "    Conventions: CF-1.5\n",
      "    title: NOAA/NCEI 1/4 Degree Daily Optimum Interpolation Sea Surface Temperature (OISST) Analysis, Version 2.1\n",
      "    institution: NOAA/National Centers for Environmental Information\n",
      "    source: NOAA/NCEI https://www.ncei.noaa.gov/data/sea-surface-temperature-optimum-interpolation/v2.1/access/avhrr/\n",
      "    References: https://www.psl.noaa.gov/data/gridded/data.noaa.oisst.v2.highres.html\n",
      "    dataset_title: NOAA Daily Optimum Interpolation Sea Surface Temperature\n",
      "    version: Version 2.1\n",
      "    comment: Reynolds, et al.(2007) Daily High-Resolution-Blended Analyses for Sea Surface Temperature (available at https://doi.org/10.1175/2007JCLI1824.1). Banzon, et al.(2016) A long-term record of blended satellite and in situ sea-surface temperature for climate monitoring, modeling and environmental studies (available at https://doi.org/10.5194/essd-8-165-2016). Huang et al. (2020) Improvements of the Daily Optimum Interpolation Sea Surface Temperature (DOISST) Version v02r01, submitted.Climatology is based on 1971-2000 OI.v2 SST. Satellite data: Pathfinder AVHRR SST and Navy AVHRR SST. Ice data: NCEP Ice and GSFC Ice.\n",
      "    dimensions(sizes): time(365), lat(720), lon(1440)\n",
      "    variables(dimensions): float64 time(time), float32 lat(lat), float32 lon(lon), float32 sst(time,lat,lon)\n",
      "    groups: \n"
     ]
    }
   ],
   "source": [
    "print(test)"
   ]
  },
  {
   "cell_type": "markdown",
   "metadata": {},
   "source": [
    "And here it comes the **Self-Describing** propierty of the netCDF format, with all information about the data it contains:\n",
    "The inforamtion provides depend on the particular data set, as we will se for Argo data, but here for this SST data you can find:\n",
    "- 'source: NOAA/NCEI https://www.ncei.noaa.gov/data/sea-surface-temperature-optimum-interpolation/v2.1/access/avhrr/'"
   ]
  },
  {
   "cell_type": "code",
   "execution_count": 6,
   "metadata": {},
   "outputs": [
    {
     "name": "stdout",
     "output_type": "stream",
     "text": [
      "xarray.Dataset {\n",
      "dimensions:\n",
      "\tlat = 720 ;\n",
      "\tlon = 1440 ;\n",
      "\ttime = 365 ;\n",
      "\n",
      "variables:\n",
      "\tdatetime64[ns] time(time) ;\n",
      "\t\ttime:long_name = Time ;\n",
      "\t\ttime:delta_t = 0000-00-01 00:00:00 ;\n",
      "\t\ttime:avg_period = 0000-00-01 00:00:00 ;\n",
      "\t\ttime:axis = T ;\n",
      "\t\ttime:actual_range = [79988. 80352.] ;\n",
      "\tfloat32 lat(lat) ;\n",
      "\t\tlat:long_name = Latitude ;\n",
      "\t\tlat:standard_name = latitude ;\n",
      "\t\tlat:units = degrees_north ;\n",
      "\t\tlat:actual_range = [-89.875  89.875] ;\n",
      "\t\tlat:axis = Y ;\n",
      "\tfloat32 lon(lon) ;\n",
      "\t\tlon:long_name = Longitude ;\n",
      "\t\tlon:standard_name = longitude ;\n",
      "\t\tlon:units = degrees_east ;\n",
      "\t\tlon:actual_range = [1.25000e-01 3.59875e+02] ;\n",
      "\t\tlon:axis = X ;\n",
      "\tfloat32 sst(time, lat, lon) ;\n",
      "\t\tsst:long_name = Daily Sea Surface Temperature ;\n",
      "\t\tsst:units = degC ;\n",
      "\t\tsst:valid_range = [-3. 45.] ;\n",
      "\t\tsst:precision = 2.0 ;\n",
      "\t\tsst:dataset = NOAA High-resolution Blended Analysis ;\n",
      "\t\tsst:var_desc = Sea Surface Temperature ;\n",
      "\t\tsst:level_desc = Surface ;\n",
      "\t\tsst:statistic = Mean ;\n",
      "\t\tsst:parent_stat = Individual Observations ;\n",
      "\t\tsst:actual_range = [-1.8  36.79] ;\n",
      "\n",
      "// global attributes:\n",
      "\t:Conventions = CF-1.5 ;\n",
      "\t:title = NOAA/NCEI 1/4 Degree Daily Optimum Interpolation Sea Surface Temperature (OISST) Analysis, Version 2.1 ;\n",
      "\t:institution = NOAA/National Centers for Environmental Information ;\n",
      "\t:source = NOAA/NCEI https://www.ncei.noaa.gov/data/sea-surface-temperature-optimum-interpolation/v2.1/access/avhrr/ ;\n",
      "\t:References = https://www.psl.noaa.gov/data/gridded/data.noaa.oisst.v2.highres.html ;\n",
      "\t:dataset_title = NOAA Daily Optimum Interpolation Sea Surface Temperature ;\n",
      "\t:version = Version 2.1 ;\n",
      "\t:comment = Reynolds, et al.(2007) Daily High-Resolution-Blended Analyses for Sea Surface Temperature (available at https://doi.org/10.1175/2007JCLI1824.1). Banzon, et al.(2016) A long-term record of blended satellite and in situ sea-surface temperature for climate monitoring, modeling and environmental studies (available at https://doi.org/10.5194/essd-8-165-2016). Huang et al. (2020) Improvements of the Daily Optimum Interpolation Sea Surface Temperature (DOISST) Version v02r01, submitted.Climatology is based on 1971-2000 OI.v2 SST. Satellite data: Pathfinder AVHRR SST and Navy AVHRR SST. Ice data: NCEP Ice and GSFC Ice. ;\n",
      "}None\n"
     ]
    }
   ],
   "source": [
    "import xarray as xr\n",
    "\n",
    "test = xr.open_dataset(fileNC)\n",
    "print(test.info())"
   ]
  },
  {
   "cell_type": "code",
   "execution_count": 1,
   "metadata": {},
   "outputs": [],
   "source": [
    "#http://xarray.pydata.org/en/latest/io.html#netcdf"
   ]
  },
  {
   "cell_type": "markdown",
   "metadata": {},
   "source": [
    "https://confluence.ecmwf.int/display/CKB/What+are+NetCDF+files+and+how+can+I+read+them"
   ]
  },
  {
   "cell_type": "code",
   "execution_count": null,
   "metadata": {},
   "outputs": [],
   "source": [
    "xarray includes support for OPeNDAP (via the netCDF4 library or Pydap), which lets us access large datasets over HTTP.\n",
    "remote_data = xr.open_dataset(\n",
    "   ....:     \"http://iridl.ldeo.columbia.edu/SOURCES/.OSU/.PRISM/.monthly/dods\",\n",
    "   ....:     decode_times=False,\n",
    "   ....: )\n"
   ]
  }
 ],
 "metadata": {
  "kernelspec": {
   "display_name": "Python 3",
   "language": "python",
   "name": "python3"
  },
  "language_info": {
   "codemirror_mode": {
    "name": "ipython",
    "version": 3
   },
   "file_extension": ".py",
   "mimetype": "text/x-python",
   "name": "python",
   "nbconvert_exporter": "python",
   "pygments_lexer": "ipython3",
   "version": "3.8.3"
  }
 },
 "nbformat": 4,
 "nbformat_minor": 4
}
