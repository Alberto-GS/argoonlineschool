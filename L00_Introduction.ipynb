{
 "cells": [
  {
   "cell_type": "markdown",
   "metadata": {},
   "source": [
    "<img src=\"https://raw.githubusercontent.com/euroargodev/argoonlineschool/master/images/logoAoS.png\" alt=\"argopy logo\" width=\"100\"/>\n",
    "\n",
    "# Argo Online School\n",
    "\n",
    "The Argo Online school is a set of videos and hands-on jupyter notebooks to describe the minimum requiremets to use, and understand, the Argo data. You can access the content as here in a [JubyterBook](https://euroargodev.github.io/argoonlineschool), or download them and use in your local machine. In that case, you should create a python enviroment to use these notebooks. To create, and activate, the enviroment AOS \n",
    "\n",
    "```\n",
    "conda env create -f environment.yml\n",
    "conda activate AOS\n",
    "```\n",
    "\n",
    "This enviroment already includes argopy stable version.\n",
    "\n",
    "``` PRUEBA PRUEBA PRUEBA PRUEBA PRUEBA\n",
    "    PRUEBA PRUEBA PRUEBA PRUEBA PRUEBA\n",
    "```\n",
    "\n",
    "\n",
    "``` PRUEBA2 PRUEBA2 PRUEBA2 PRUEBA2 PRUEBA2\n",
    "    PRUEBA2 PRUEBA2 PRUEBA2 PRUEBA2 PRUEBA2\n",
    "```\n",
    "\n",
    "## Data\n",
    "If you download the notebooks you should create a ./Data* folder where include the files used for the examples. To download the files you should \n",
    "\n",
    "Daily NOAA OI SST V2 High Resolution Dataset for 2009:\n",
    "\n",
    "`! wget ftp://ftp2.psl.noaa.gov/Datasets/noaa.oisst.v2.highres/sst.day.mean.2019.nc`\n",
    "\n",
    "Data from float 6900772\n",
    "\n",
    "`wget ftp://ftp.ifremer.fr/ifremer/argo/dac/coriolis/6901254/*`\n",
    "\n",
    "Data in the north Atlantic for the 11th November 2019\n",
    "\n",
    "`! wget ftp://ftp.ifremer.fr/ifremer/argo//geo/indian_ocean/2019/11/20191111_prof.nc`\n",
    "\n",
    "## Further reading\n",
    "\n",
    "As a very useful first aproach to python, you can use [An Introduction to Earth and Environmental Data Science](https://earth-env-data-science.github.io/intro) and [Research computing in earth Sciences](https://rabernat.github.io/research_computing/) developed by [Ryan Abernathey](https://ocean-transport.github.io/) and Kerry Key.\n",
    "\n",
    "For the full description of the formats and files produced by the Argo Data Assembly Centres (DACs), see the [Argo user’s manual](https://archimer.ifremer.fr/doc/00187/29825/), the [Argo Quality Control Manual for CTD and Trajectory Data](https://archimer.ifremer.fr/doc/00228/33951/) or the [The Argo data management handbook](http://www.argodatamgt.org/content/download/340/2645/file/argo_data_management_handbook.pdf)\n",
    "\n",
    "More information can be found in the [Argo Stereing Team web page](http://www.argo.ucsd.edu/) or the [Argo Data Management team documentation](http://www.argodatamgt.org/Documentation)\n"
   ]
  },
  {
   "cell_type": "code",
   "execution_count": null,
   "metadata": {},
   "outputs": [],
   "source": []
  }
 ],
 "metadata": {
  "kernelspec": {
   "display_name": "Python 3",
   "language": "python",
   "name": "python3"
  },
  "language_info": {
   "codemirror_mode": {
    "name": "ipython",
    "version": 3
   },
   "file_extension": ".py",
   "mimetype": "text/x-python",
   "name": "python",
   "nbconvert_exporter": "python",
   "pygments_lexer": "ipython3",
   "version": "3.7.3"
  }
 },
 "nbformat": 4,
 "nbformat_minor": 4
}
