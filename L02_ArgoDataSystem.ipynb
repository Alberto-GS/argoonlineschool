{
 "cells": [
  {
   "cell_type": "markdown",
   "metadata": {},
   "source": [
    "# ![Argo logo](http://www.argo.ucsd.edu/argocolorsmall.gif) Argo Data System\n",
    "\n",
    "When an Argo float surfaces, the data are received by one of the *Data Assembly Centers* (DAC). At the DACs, they are subjected to initial scrutiny using a set of real time quality control tests where erroneous data are flagged or corrected, then the data are passed to one of the two Argo *Global Data Assembly Center* (GDAC), the Coriolis GDAC (Brest, France, Europe) or the US-Godae GDAC (Mobterey, California, USA). \n",
    "\n",
    "The GDACs are the first stage at which the freely available data can be obtained via the internet. The GDACs synchronize their data holdings to ensure consistent data is available on both sites. The target is for these *real-time* data to be available within 24 hours of their transmission from the float."
   ]
  },
  {
   "cell_type": "markdown",
   "metadata": {},
   "source": [
    "Additionally Argo data can be accesed by several other ways:\n",
    "\n",
    "- via the Global Telecomunication System for operational centers. \n",
    "- via interactive Data selection tools on the GDACs\n",
    "- via gridded fields and velocity products based on Argo NetCDF files from the GDACs\n",
    "- via data viewers that incorporate Argo data\n",
    "- via the [Global Argo Data Repository (GADR)](https://www.nodc.noaa.gov/argo/) for archived and offline data\n",
    "- via monthly copies of the GDACs https://www.seanoe.org/data/00311/42182/\n",
    "\n",
    "See the [A beginner's guide to accessing Argo data](http://www.argo.ucsd.edu/Argo_date_guide.html) to read a full description, with links, to this other ways of accesing the data\n",
    "\n",
    "**However, in this secction we focus in the accesss to the primary source of the Argo data, the GDACs**"
   ]
  },
  {
   "cell_type": "markdown",
   "metadata": {},
   "source": [
    "## Using Argo data from the GDACs\n",
    "For users interested in manipulating the actual Argo NetCDF files, the GDACs should be the route to access Argo data. Both GDACs offer access to the complete Argo data collection, including float metadata, detailed trajectory data, profile data and technical data all in NetCDF  \n",
    "\n",
    "- Ftp site of the US-Godae GDAC ftp://usgodae.org/pub/outgoing/argo/\n",
    "- Ftp site of the Coriolis GDAC ftp://ftp.ifremer.fr/ifremer/argo\n",
    "- Ftp site of the Coriolis GDAC https://data-argo.ifremer.fr\n",
    "\n",
    "The http and ftp sites are identical and are organized into three main folders: a \"dac\" folder which sorts the data by Data Assembly Centre (DAC), a \"geo\" folder which sorts the data by ocean basin, and a \"latest_data\" folder which includes the most recent data. There are also several index files in the top directory containing a list of metadata on each type of Argo data file (meta, prof, tech and traj) contained in the \"dac\" and \"geo\" folders. It is possible to download these lists and search them for floats in specific regions, times, DACs, etc. There is also a grelist which contains a list of floats that likely have sensor problems.\n",
    "\n",
    "It is important to understand the naming system of the files as well as the variable names and quality control\n",
    "flags within each data file. See the the Argo User's Manual and the Argo quality control manual\n",
    "on the http://www.argodatamgt.org/Documentation page for more information\n",
    "\n",
    "\n",
    "\n"
   ]
  },
  {
   "cell_type": "markdown",
   "metadata": {},
   "source": [
    "# Data files organized by float"
   ]
  },
  {
   "cell_type": "code",
   "execution_count": 4,
   "metadata": {},
   "outputs": [
    {
     "name": "stdout",
     "output_type": "stream",
     "text": [
      "--2020-06-27 15:21:04--  ftp://ftp.ifremer.fr/ifremer/argo/dac/coriolis/6900772/profiles/D6900772_001.nc\n",
      "           => ‘D6900772_001.nc’\n",
      "Resolving ftp.ifremer.fr (ftp.ifremer.fr)... 134.246.142.21\n",
      "Connecting to ftp.ifremer.fr (ftp.ifremer.fr)|134.246.142.21|:21... connected.\n",
      "Logging in as anonymous ... Logged in!\n",
      "==> SYST ... done.    ==> PWD ... done.\n",
      "==> TYPE I ... done.  ==> CWD (1) /ifremer/argo/dac/coriolis/6900772/profiles ... done.\n",
      "==> SIZE D6900772_001.nc ... 21736\n",
      "==> PASV ... done.    ==> RETR D6900772_001.nc ... done.\n",
      "Length: 21736 (21K) (unauthoritative)\n",
      "\n",
      "D6900772_001.nc     100%[===================>]  21,23K  --.-KB/s    in 0,1s    \n",
      "\n",
      "2020-06-27 15:21:05 (154 KB/s) - ‘D6900772_001.nc’ saved [21736]\n",
      "\n"
     ]
    }
   ],
   "source": [
    "! wget ftp://ftp.ifremer.fr/ifremer/argo/dac/coriolis/6900772/profiles/D6900772_001.nc"
   ]
  },
  {
   "cell_type": "code",
   "execution_count": 6,
   "metadata": {},
   "outputs": [
    {
     "name": "stdout",
     "output_type": "stream",
     "text": [
      "--2020-06-27 15:36:24--  ftp://ftp.ifremer.fr/ifremer/argo//geo/indian_ocean/2019/11/20191111_prof.nc\n",
      "           => ‘20191111_prof.nc’\n",
      "Resolving ftp.ifremer.fr (ftp.ifremer.fr)... 134.246.142.21\n",
      "Connecting to ftp.ifremer.fr (ftp.ifremer.fr)|134.246.142.21|:21... connected.\n",
      "Logging in as anonymous ... Logged in!\n",
      "==> SYST ... done.    ==> PWD ... done.\n",
      "==> TYPE I ... done.  ==> CWD (1) /ifremer/argo//geo/indian_ocean/2019/11 ... done.\n",
      "==> SIZE 20191111_prof.nc ... 4515136\n",
      "==> PASV ... done.    ==> RETR 20191111_prof.nc ... done.\n",
      "Length: 4515136 (4,3M) (unauthoritative)\n",
      "\n",
      "20191111_prof.nc    100%[===================>]   4,31M  1,53MB/s    in 2,8s    \n",
      "\n",
      "2020-06-27 15:36:28 (1,53 MB/s) - ‘20191111_prof.nc’ saved [4515136]\n",
      "\n"
     ]
    }
   ],
   "source": [
    "! wget ftp://ftp.ifremer.fr/ifremer/argo//geo/indian_ocean/2019/11/20191111_prof.nc"
   ]
  },
  {
   "cell_type": "code",
   "execution_count": null,
   "metadata": {},
   "outputs": [],
   "source": []
  }
 ],
 "metadata": {
  "kernelspec": {
   "display_name": "Python 3",
   "language": "python",
   "name": "python3"
  },
  "language_info": {
   "codemirror_mode": {
    "name": "ipython",
    "version": 3
   },
   "file_extension": ".py",
   "mimetype": "text/x-python",
   "name": "python",
   "nbconvert_exporter": "python",
   "pygments_lexer": "ipython3",
   "version": "3.8.3"
  }
 },
 "nbformat": 4,
 "nbformat_minor": 4
}
