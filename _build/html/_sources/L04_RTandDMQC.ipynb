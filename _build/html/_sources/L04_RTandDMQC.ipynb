{
 "cells": [
  {
   "cell_type": "markdown",
   "metadata": {},
   "source": [
    "# <img src=\"./images/logoArgo.png\" alt=\"Argo status\" width=\"150\"/>  Real Time and Calibrated data\n",
    "\n",
    "An argo float device measures temperature and salinity versus pressure. Trajectory data involve positions and time.\n",
    "- Real-time data\n",
    "- Calibrated data\n",
    "JULD, LATITUDE, LONGITUDE, PRES, TEMP, PSAL and CNDC.\n"
   ]
  },
  {
   "cell_type": "code",
   "execution_count": null,
   "metadata": {},
   "outputs": [],
   "source": []
  }
 ],
 "metadata": {
  "kernelspec": {
   "display_name": "Python 3",
   "language": "python",
   "name": "python3"
  },
  "language_info": {
   "codemirror_mode": {
    "name": "ipython",
    "version": 3
   },
   "file_extension": ".py",
   "mimetype": "text/x-python",
   "name": "python",
   "nbconvert_exporter": "python",
   "pygments_lexer": "ipython3",
   "version": "3.8.3"
  }
 },
 "nbformat": 4,
 "nbformat_minor": 4
}
