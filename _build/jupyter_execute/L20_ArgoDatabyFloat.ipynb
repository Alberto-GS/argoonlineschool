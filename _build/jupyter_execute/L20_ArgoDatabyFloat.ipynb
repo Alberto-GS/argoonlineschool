{
 "cells": [
  {
   "cell_type": "markdown",
   "metadata": {},
   "source": [
    "# Accesing argo data by float"
   ]
  },
  {
   "cell_type": "markdown",
   "metadata": {},
   "source": [
    "## Real Time and Calibrated data \n",
    "\n",
    "Since the target is to have the Argo data available within 24 hours of their transmission from the float, this data is called *Real Time* (RT) data.  One year after the data were observed it is, if necessary, adjusted and made public, this data is called *Delayed Mode* (DM). We will begin by focusing in the real time data, and in section [Adjusted data](https://euroargodev.github.io/argoonlineschool/L50_AdjustedData.html) we will describe how the data is adjusted."
   ]
  },
  {
   "cell_type": "markdown",
   "metadata": {},
   "source": [
    "## Data files organized by float\n",
    "\n",
    "<img src=\"https://github.com/euroargodev/argoonlineschool/raw/master/images/dac.png\" alt=\"xarray logo\" width=\"650\"/>"
   ]
  },
  {
   "cell_type": "markdown",
   "metadata": {},
   "source": [
    "When accessing the **da**c folder in any of the *FTP* or *HTTP* sites of any of the two GDACs you will find several (11) folders, one for each of the DACs.  Within each one of these folder there is one folder for each one of the floats processed by this particular *DAC*. \n",
    "\n",
    "In the example here, we will use data from float with **WMO** number 6901254, that is proceesed by coriolis (later we will see how to find the DAC for each float), therefore within the folder `./6901254`, we find the following files and folder:\n",
    "\n",
    "- 6901254_Rtraj.nc \n",
    "- 6901254_meta.nc  \n",
    "- 6901254_prof.nc  \n",
    "- 6901254_tech.nc  \n",
    "- ./profiles\n",
    "\n",
    "we will describe the content of each of these files later, but let's focus on the folder `./profiles/` since it contains one file for each one of the hydrographic cycles carried out by the float. **R6901254_001.nc** is the file that contains the data from the first cycle. It begins with a *R* since it is the real time data, if it began with an *D* it would be adjusted data, or Delayed Mode data; we will see and example in section [**ACTUALIZAR**]. \n",
    "\n",
    "Additionally some argo floats, as 6901254, also made obserations in the first descent from the surface to the parking depth, in this case the name of the files with this data would be **R6901254_001D.nc**.  \n",
    "\n",
    "In general, the format of the file names for individual profiles are `<R/D><FloatWmoID>_<XXX><D>.nc` where :\n",
    "\n",
    "- The initial *R* indicates Real-Time data, the initial *D* indicates Delayed-Mode data\n",
    "- *XXX* is the cycle number\n",
    "- The second *D* indicates a descending profile, if exist, while profiles without this D are collected during ascent.\n",
    "\n",
    "\n",
    "Note that it may happens that, in the future, you try to downdload the fles from float 6901254 and there is not `R6901254_001.nc` and `R6901254_001D.nc` files, but you find `D6901254_001.nc` and `D6901254_001D.nc` since the R-files are substituded by the D-files once the data is adjusted, we will describe that in detail in section [**ACTUALIZAR**]"
   ]
  },
  {
   "cell_type": "markdown",
   "metadata": {},
   "source": [
    ">The data from the float is pre-downloaded in the *./Data* folder, but you can dowload it from the Coriolis GDAC. See the [Data](https://euroargodev.github.io/argoonlineschool/README.html#data) section for instructions on how to download the data.\n",
    "\n"
   ]
  },
  {
   "cell_type": "markdown",
   "metadata": {},
   "source": [
    "## Reading an Argo CTD cycle data - the building block of Argo"
   ]
  },
  {
   "cell_type": "markdown",
   "metadata": {},
   "source": [
    "### The first cycle\n",
    "\n",
    "<img src=\"https://github.com/euroargodev/argoonlineschool/raw/master/images/ArgoCycle.png\" alt=\"ArgoCycle\" width=\"1200\"/>\n",
    "\n",
    "An **Argo cycle** starts with a descent toward deep water, usually from the surface, and ends after the next programmed ascent to the surface (see the figure). During the surface interval, data transmission typically occurs but it is not a requirement for a cycle to have occurred, but if ocurrs, the cycle ends after the full surface interval has been completed.\n",
    "\n",
    "Measurements (e.g. pressure, temperature, salinity) are performed during ascent, occasionally during descent, and  subsurface measurements during parking are sometime performed.\n",
    "\n",
    "Each cycle of a float has a unique number, increased by one after each ascent to the surfce or shallow water. Float cycle numbers usually start at 1. The next cycles are increasing numbers (e.g. 2, 3,...N). Some floats report a cycle 0, called *launch cycle*, that is shorther than the regular cycles. The cycle time is therefore regular only for later profiles and may be variable if the float is reprogrammed after its deployment.\n",
    "\n",
    "For those floats with cycle 0, if there is an initial descend profile, it would be on cycle 0."
   ]
  },
  {
   "cell_type": "markdown",
   "metadata": {},
   "source": [
    "First, import libraries"
   ]
  },
  {
   "cell_type": "code",
   "execution_count": 22,
   "metadata": {},
   "outputs": [],
   "source": [
    "import numpy as np\n",
    "import xarray as xr\n",
    "import netCDF4\n",
    "from matplotlib import pyplot as plt\n",
    "%matplotlib inline"
   ]
  },
  {
   "cell_type": "code",
   "execution_count": 23,
   "metadata": {},
   "outputs": [],
   "source": [
    "cy1  = xr.open_dataset('./Data/6901254/profiles/R6901254_001.nc')"
   ]
  },
  {
   "cell_type": "markdown",
   "metadata": {},
   "source": [
    "Printing the object gives you summary information"
   ]
  },
  {
   "cell_type": "code",
   "execution_count": 24,
   "metadata": {},
   "outputs": [
    {
     "data": {
      "text/html": [
       "<div><svg style=\"position: absolute; width: 0; height: 0; overflow: hidden\">\n",
       "<defs>\n",
       "<symbol id=\"icon-database\" viewBox=\"0 0 32 32\">\n",
       "<title>Show/Hide data repr</title>\n",
       "<path d=\"M16 0c-8.837 0-16 2.239-16 5v4c0 2.761 7.163 5 16 5s16-2.239 16-5v-4c0-2.761-7.163-5-16-5z\"></path>\n",
       "<path d=\"M16 17c-8.837 0-16-2.239-16-5v6c0 2.761 7.163 5 16 5s16-2.239 16-5v-6c0 2.761-7.163 5-16 5z\"></path>\n",
       "<path d=\"M16 26c-8.837 0-16-2.239-16-5v6c0 2.761 7.163 5 16 5s16-2.239 16-5v-6c0 2.761-7.163 5-16 5z\"></path>\n",
       "</symbol>\n",
       "<symbol id=\"icon-file-text2\" viewBox=\"0 0 32 32\">\n",
       "<title>Show/Hide attributes</title>\n",
       "<path d=\"M28.681 7.159c-0.694-0.947-1.662-2.053-2.724-3.116s-2.169-2.030-3.116-2.724c-1.612-1.182-2.393-1.319-2.841-1.319h-15.5c-1.378 0-2.5 1.121-2.5 2.5v27c0 1.378 1.122 2.5 2.5 2.5h23c1.378 0 2.5-1.122 2.5-2.5v-19.5c0-0.448-0.137-1.23-1.319-2.841zM24.543 5.457c0.959 0.959 1.712 1.825 2.268 2.543h-4.811v-4.811c0.718 0.556 1.584 1.309 2.543 2.268zM28 29.5c0 0.271-0.229 0.5-0.5 0.5h-23c-0.271 0-0.5-0.229-0.5-0.5v-27c0-0.271 0.229-0.5 0.5-0.5 0 0 15.499-0 15.5 0v7c0 0.552 0.448 1 1 1h7v19.5z\"></path>\n",
       "<path d=\"M23 26h-14c-0.552 0-1-0.448-1-1s0.448-1 1-1h14c0.552 0 1 0.448 1 1s-0.448 1-1 1z\"></path>\n",
       "<path d=\"M23 22h-14c-0.552 0-1-0.448-1-1s0.448-1 1-1h14c0.552 0 1 0.448 1 1s-0.448 1-1 1z\"></path>\n",
       "<path d=\"M23 18h-14c-0.552 0-1-0.448-1-1s0.448-1 1-1h14c0.552 0 1 0.448 1 1s-0.448 1-1 1z\"></path>\n",
       "</symbol>\n",
       "</defs>\n",
       "</svg>\n",
       "<style>/* CSS stylesheet for displaying xarray objects in jupyterlab.\n",
       " *\n",
       " */\n",
       "\n",
       ":root {\n",
       "  --xr-font-color0: var(--jp-content-font-color0, rgba(0, 0, 0, 1));\n",
       "  --xr-font-color2: var(--jp-content-font-color2, rgba(0, 0, 0, 0.54));\n",
       "  --xr-font-color3: var(--jp-content-font-color3, rgba(0, 0, 0, 0.38));\n",
       "  --xr-border-color: var(--jp-border-color2, #e0e0e0);\n",
       "  --xr-disabled-color: var(--jp-layout-color3, #bdbdbd);\n",
       "  --xr-background-color: var(--jp-layout-color0, white);\n",
       "  --xr-background-color-row-even: var(--jp-layout-color1, white);\n",
       "  --xr-background-color-row-odd: var(--jp-layout-color2, #eeeeee);\n",
       "}\n",
       "\n",
       ".xr-wrap {\n",
       "  min-width: 300px;\n",
       "  max-width: 700px;\n",
       "}\n",
       "\n",
       ".xr-header {\n",
       "  padding-top: 6px;\n",
       "  padding-bottom: 6px;\n",
       "  margin-bottom: 4px;\n",
       "  border-bottom: solid 1px var(--xr-border-color);\n",
       "}\n",
       "\n",
       ".xr-header > div,\n",
       ".xr-header > ul {\n",
       "  display: inline;\n",
       "  margin-top: 0;\n",
       "  margin-bottom: 0;\n",
       "}\n",
       "\n",
       ".xr-obj-type,\n",
       ".xr-array-name {\n",
       "  margin-left: 2px;\n",
       "  margin-right: 10px;\n",
       "}\n",
       "\n",
       ".xr-obj-type {\n",
       "  color: var(--xr-font-color2);\n",
       "}\n",
       "\n",
       ".xr-sections {\n",
       "  padding-left: 0 !important;\n",
       "  display: grid;\n",
       "  grid-template-columns: 150px auto auto 1fr 20px 20px;\n",
       "}\n",
       "\n",
       ".xr-section-item {\n",
       "  display: contents;\n",
       "}\n",
       "\n",
       ".xr-section-item input {\n",
       "  display: none;\n",
       "}\n",
       "\n",
       ".xr-section-item input + label {\n",
       "  color: var(--xr-disabled-color);\n",
       "}\n",
       "\n",
       ".xr-section-item input:enabled + label {\n",
       "  cursor: pointer;\n",
       "  color: var(--xr-font-color2);\n",
       "}\n",
       "\n",
       ".xr-section-item input:enabled + label:hover {\n",
       "  color: var(--xr-font-color0);\n",
       "}\n",
       "\n",
       ".xr-section-summary {\n",
       "  grid-column: 1;\n",
       "  color: var(--xr-font-color2);\n",
       "  font-weight: 500;\n",
       "}\n",
       "\n",
       ".xr-section-summary > span {\n",
       "  display: inline-block;\n",
       "  padding-left: 0.5em;\n",
       "}\n",
       "\n",
       ".xr-section-summary-in:disabled + label {\n",
       "  color: var(--xr-font-color2);\n",
       "}\n",
       "\n",
       ".xr-section-summary-in + label:before {\n",
       "  display: inline-block;\n",
       "  content: '►';\n",
       "  font-size: 11px;\n",
       "  width: 15px;\n",
       "  text-align: center;\n",
       "}\n",
       "\n",
       ".xr-section-summary-in:disabled + label:before {\n",
       "  color: var(--xr-disabled-color);\n",
       "}\n",
       "\n",
       ".xr-section-summary-in:checked + label:before {\n",
       "  content: '▼';\n",
       "}\n",
       "\n",
       ".xr-section-summary-in:checked + label > span {\n",
       "  display: none;\n",
       "}\n",
       "\n",
       ".xr-section-summary,\n",
       ".xr-section-inline-details {\n",
       "  padding-top: 4px;\n",
       "  padding-bottom: 4px;\n",
       "}\n",
       "\n",
       ".xr-section-inline-details {\n",
       "  grid-column: 2 / -1;\n",
       "}\n",
       "\n",
       ".xr-section-details {\n",
       "  display: none;\n",
       "  grid-column: 1 / -1;\n",
       "  margin-bottom: 5px;\n",
       "}\n",
       "\n",
       ".xr-section-summary-in:checked ~ .xr-section-details {\n",
       "  display: contents;\n",
       "}\n",
       "\n",
       ".xr-array-wrap {\n",
       "  grid-column: 1 / -1;\n",
       "  display: grid;\n",
       "  grid-template-columns: 20px auto;\n",
       "}\n",
       "\n",
       ".xr-array-wrap > label {\n",
       "  grid-column: 1;\n",
       "  vertical-align: top;\n",
       "}\n",
       "\n",
       ".xr-preview {\n",
       "  color: var(--xr-font-color3);\n",
       "}\n",
       "\n",
       ".xr-array-preview,\n",
       ".xr-array-data {\n",
       "  padding: 0 5px !important;\n",
       "  grid-column: 2;\n",
       "}\n",
       "\n",
       ".xr-array-data,\n",
       ".xr-array-in:checked ~ .xr-array-preview {\n",
       "  display: none;\n",
       "}\n",
       "\n",
       ".xr-array-in:checked ~ .xr-array-data,\n",
       ".xr-array-preview {\n",
       "  display: inline-block;\n",
       "}\n",
       "\n",
       ".xr-dim-list {\n",
       "  display: inline-block !important;\n",
       "  list-style: none;\n",
       "  padding: 0 !important;\n",
       "  margin: 0;\n",
       "}\n",
       "\n",
       ".xr-dim-list li {\n",
       "  display: inline-block;\n",
       "  padding: 0;\n",
       "  margin: 0;\n",
       "}\n",
       "\n",
       ".xr-dim-list:before {\n",
       "  content: '(';\n",
       "}\n",
       "\n",
       ".xr-dim-list:after {\n",
       "  content: ')';\n",
       "}\n",
       "\n",
       ".xr-dim-list li:not(:last-child):after {\n",
       "  content: ',';\n",
       "  padding-right: 5px;\n",
       "}\n",
       "\n",
       ".xr-has-index {\n",
       "  font-weight: bold;\n",
       "}\n",
       "\n",
       ".xr-var-list,\n",
       ".xr-var-item {\n",
       "  display: contents;\n",
       "}\n",
       "\n",
       ".xr-var-item > div,\n",
       ".xr-var-item label,\n",
       ".xr-var-item > .xr-var-name span {\n",
       "  background-color: var(--xr-background-color-row-even);\n",
       "  margin-bottom: 0;\n",
       "}\n",
       "\n",
       ".xr-var-item > .xr-var-name:hover span {\n",
       "  padding-right: 5px;\n",
       "}\n",
       "\n",
       ".xr-var-list > li:nth-child(odd) > div,\n",
       ".xr-var-list > li:nth-child(odd) > label,\n",
       ".xr-var-list > li:nth-child(odd) > .xr-var-name span {\n",
       "  background-color: var(--xr-background-color-row-odd);\n",
       "}\n",
       "\n",
       ".xr-var-name {\n",
       "  grid-column: 1;\n",
       "}\n",
       "\n",
       ".xr-var-dims {\n",
       "  grid-column: 2;\n",
       "}\n",
       "\n",
       ".xr-var-dtype {\n",
       "  grid-column: 3;\n",
       "  text-align: right;\n",
       "  color: var(--xr-font-color2);\n",
       "}\n",
       "\n",
       ".xr-var-preview {\n",
       "  grid-column: 4;\n",
       "}\n",
       "\n",
       ".xr-var-name,\n",
       ".xr-var-dims,\n",
       ".xr-var-dtype,\n",
       ".xr-preview,\n",
       ".xr-attrs dt {\n",
       "  white-space: nowrap;\n",
       "  overflow: hidden;\n",
       "  text-overflow: ellipsis;\n",
       "  padding-right: 10px;\n",
       "}\n",
       "\n",
       ".xr-var-name:hover,\n",
       ".xr-var-dims:hover,\n",
       ".xr-var-dtype:hover,\n",
       ".xr-attrs dt:hover {\n",
       "  overflow: visible;\n",
       "  width: auto;\n",
       "  z-index: 1;\n",
       "}\n",
       "\n",
       ".xr-var-attrs,\n",
       ".xr-var-data {\n",
       "  display: none;\n",
       "  background-color: var(--xr-background-color) !important;\n",
       "  padding-bottom: 5px !important;\n",
       "}\n",
       "\n",
       ".xr-var-attrs-in:checked ~ .xr-var-attrs,\n",
       ".xr-var-data-in:checked ~ .xr-var-data {\n",
       "  display: block;\n",
       "}\n",
       "\n",
       ".xr-var-data > table {\n",
       "  float: right;\n",
       "}\n",
       "\n",
       ".xr-var-name span,\n",
       ".xr-var-data,\n",
       ".xr-attrs {\n",
       "  padding-left: 25px !important;\n",
       "}\n",
       "\n",
       ".xr-attrs,\n",
       ".xr-var-attrs,\n",
       ".xr-var-data {\n",
       "  grid-column: 1 / -1;\n",
       "}\n",
       "\n",
       "dl.xr-attrs {\n",
       "  padding: 0;\n",
       "  margin: 0;\n",
       "  display: grid;\n",
       "  grid-template-columns: 125px auto;\n",
       "}\n",
       "\n",
       ".xr-attrs dt, dd {\n",
       "  padding: 0;\n",
       "  margin: 0;\n",
       "  float: left;\n",
       "  padding-right: 10px;\n",
       "  width: auto;\n",
       "}\n",
       "\n",
       ".xr-attrs dt {\n",
       "  font-weight: normal;\n",
       "  grid-column: 1;\n",
       "}\n",
       "\n",
       ".xr-attrs dt:hover span {\n",
       "  display: inline-block;\n",
       "  background: var(--xr-background-color);\n",
       "  padding-right: 10px;\n",
       "}\n",
       "\n",
       ".xr-attrs dd {\n",
       "  grid-column: 2;\n",
       "  white-space: pre-wrap;\n",
       "  word-break: break-all;\n",
       "}\n",
       "\n",
       ".xr-icon-database,\n",
       ".xr-icon-file-text2 {\n",
       "  display: inline-block;\n",
       "  vertical-align: middle;\n",
       "  width: 1em;\n",
       "  height: 1.5em !important;\n",
       "  stroke-width: 0;\n",
       "  stroke: currentColor;\n",
       "  fill: currentColor;\n",
       "}\n",
       "</style><div class='xr-wrap'><div class='xr-header'><div class='xr-obj-type'>xarray.Dataset</div></div><ul class='xr-sections'><li class='xr-section-item'><input id='section-af568a43-a239-4a7b-bc2b-2c5ace6e794e' class='xr-section-summary-in' type='checkbox' disabled ><label for='section-af568a43-a239-4a7b-bc2b-2c5ace6e794e' class='xr-section-summary'  title='Expand/collapse section'>Dimensions:</label><div class='xr-section-inline-details'><ul class='xr-dim-list'><li><span>N_CALIB</span>: 1</li><li><span>N_HISTORY</span>: 3</li><li><span>N_LEVELS</span>: 97</li><li><span>N_PARAM</span>: 3</li><li><span>N_PROF</span>: 2</li></ul></div><div class='xr-section-details'></div></li><li class='xr-section-item'><input id='section-fc728fd8-e3e2-4eee-8258-80bdc13264f3' class='xr-section-summary-in' type='checkbox' disabled ><label for='section-fc728fd8-e3e2-4eee-8258-80bdc13264f3' class='xr-section-summary'  title='Expand/collapse section'>Coordinates: <span>(0)</span></label><div class='xr-section-inline-details'></div><div class='xr-section-details'><ul class='xr-var-list'></ul></div></li><li class='xr-section-item'><input id='section-221b8fee-0142-49b2-953f-901b8bcf70e4' class='xr-section-summary-in' type='checkbox'  ><label for='section-221b8fee-0142-49b2-953f-901b8bcf70e4' class='xr-section-summary' >Data variables: <span>(64)</span></label><div class='xr-section-inline-details'></div><div class='xr-section-details'><ul class='xr-var-list'><li class='xr-var-item'><div class='xr-var-name'><span>DATA_TYPE</span></div><div class='xr-var-dims'>()</div><div class='xr-var-dtype'>object</div><div class='xr-var-preview xr-preview'>...</div><input id='attrs-85ffde7e-9a6c-4363-90c9-8d05754e28ee' class='xr-var-attrs-in' type='checkbox' ><label for='attrs-85ffde7e-9a6c-4363-90c9-8d05754e28ee' title='Show/Hide attributes'><svg class='icon xr-icon-file-text2'><use xlink:href='#icon-file-text2'></use></svg></label><input id='data-03266ff6-1114-4695-b2b2-8860f450ee24' class='xr-var-data-in' type='checkbox'><label for='data-03266ff6-1114-4695-b2b2-8860f450ee24' title='Show/Hide data repr'><svg class='icon xr-icon-database'><use xlink:href='#icon-database'></use></svg></label><div class='xr-var-attrs'><dl class='xr-attrs'><dt><span>long_name :</span></dt><dd>Data type</dd><dt><span>conventions :</span></dt><dd>Argo reference table 1</dd></dl></div><pre class='xr-var-data'>array(b&#x27;Argo profile    &#x27;, dtype=object)</pre></li><li class='xr-var-item'><div class='xr-var-name'><span>FORMAT_VERSION</span></div><div class='xr-var-dims'>()</div><div class='xr-var-dtype'>object</div><div class='xr-var-preview xr-preview'>...</div><input id='attrs-9a21023a-79af-42c8-a30d-7f105a79bd1b' class='xr-var-attrs-in' type='checkbox' ><label for='attrs-9a21023a-79af-42c8-a30d-7f105a79bd1b' title='Show/Hide attributes'><svg class='icon xr-icon-file-text2'><use xlink:href='#icon-file-text2'></use></svg></label><input id='data-8c16d5b2-77d1-4758-b761-79fb9ed48716' class='xr-var-data-in' type='checkbox'><label for='data-8c16d5b2-77d1-4758-b761-79fb9ed48716' title='Show/Hide data repr'><svg class='icon xr-icon-database'><use xlink:href='#icon-database'></use></svg></label><div class='xr-var-attrs'><dl class='xr-attrs'><dt><span>long_name :</span></dt><dd>File format version</dd></dl></div><pre class='xr-var-data'>array(b&#x27;3.1 &#x27;, dtype=object)</pre></li><li class='xr-var-item'><div class='xr-var-name'><span>HANDBOOK_VERSION</span></div><div class='xr-var-dims'>()</div><div class='xr-var-dtype'>object</div><div class='xr-var-preview xr-preview'>...</div><input id='attrs-aeeb03a6-efa7-40a1-9fd8-f1c00b171059' class='xr-var-attrs-in' type='checkbox' ><label for='attrs-aeeb03a6-efa7-40a1-9fd8-f1c00b171059' title='Show/Hide attributes'><svg class='icon xr-icon-file-text2'><use xlink:href='#icon-file-text2'></use></svg></label><input id='data-d8feb176-bdb6-473f-b3d0-3cae63d22912' class='xr-var-data-in' type='checkbox'><label for='data-d8feb176-bdb6-473f-b3d0-3cae63d22912' title='Show/Hide data repr'><svg class='icon xr-icon-database'><use xlink:href='#icon-database'></use></svg></label><div class='xr-var-attrs'><dl class='xr-attrs'><dt><span>long_name :</span></dt><dd>Data handbook version</dd></dl></div><pre class='xr-var-data'>array(b&#x27;1.2 &#x27;, dtype=object)</pre></li><li class='xr-var-item'><div class='xr-var-name'><span>REFERENCE_DATE_TIME</span></div><div class='xr-var-dims'>()</div><div class='xr-var-dtype'>object</div><div class='xr-var-preview xr-preview'>...</div><input id='attrs-83e3483e-da17-4804-b919-d09f2d418dcf' class='xr-var-attrs-in' type='checkbox' ><label for='attrs-83e3483e-da17-4804-b919-d09f2d418dcf' title='Show/Hide attributes'><svg class='icon xr-icon-file-text2'><use xlink:href='#icon-file-text2'></use></svg></label><input id='data-44fd1157-e861-41b7-973f-da6b93e552fd' class='xr-var-data-in' type='checkbox'><label for='data-44fd1157-e861-41b7-973f-da6b93e552fd' title='Show/Hide data repr'><svg class='icon xr-icon-database'><use xlink:href='#icon-database'></use></svg></label><div class='xr-var-attrs'><dl class='xr-attrs'><dt><span>long_name :</span></dt><dd>Date of reference for Julian days</dd><dt><span>conventions :</span></dt><dd>YYYYMMDDHHMISS</dd></dl></div><pre class='xr-var-data'>array(b&#x27;19500101000000&#x27;, dtype=object)</pre></li><li class='xr-var-item'><div class='xr-var-name'><span>DATE_CREATION</span></div><div class='xr-var-dims'>()</div><div class='xr-var-dtype'>object</div><div class='xr-var-preview xr-preview'>...</div><input id='attrs-b52fe01e-4f16-47e3-aafc-3dd71a44af75' class='xr-var-attrs-in' type='checkbox' ><label for='attrs-b52fe01e-4f16-47e3-aafc-3dd71a44af75' title='Show/Hide attributes'><svg class='icon xr-icon-file-text2'><use xlink:href='#icon-file-text2'></use></svg></label><input id='data-f8132829-7cb5-4143-b9dc-804acd51a8d8' class='xr-var-data-in' type='checkbox'><label for='data-f8132829-7cb5-4143-b9dc-804acd51a8d8' title='Show/Hide data repr'><svg class='icon xr-icon-database'><use xlink:href='#icon-database'></use></svg></label><div class='xr-var-attrs'><dl class='xr-attrs'><dt><span>long_name :</span></dt><dd>Date of file creation</dd><dt><span>conventions :</span></dt><dd>YYYYMMDDHHMISS</dd></dl></div><pre class='xr-var-data'>array(b&#x27;20190115112518&#x27;, dtype=object)</pre></li><li class='xr-var-item'><div class='xr-var-name'><span>DATE_UPDATE</span></div><div class='xr-var-dims'>()</div><div class='xr-var-dtype'>object</div><div class='xr-var-preview xr-preview'>...</div><input id='attrs-97be089e-1359-4a58-8889-13d5b043d4f3' class='xr-var-attrs-in' type='checkbox' ><label for='attrs-97be089e-1359-4a58-8889-13d5b043d4f3' title='Show/Hide attributes'><svg class='icon xr-icon-file-text2'><use xlink:href='#icon-file-text2'></use></svg></label><input id='data-953ac831-7a95-4413-8e82-29d887e5392f' class='xr-var-data-in' type='checkbox'><label for='data-953ac831-7a95-4413-8e82-29d887e5392f' title='Show/Hide data repr'><svg class='icon xr-icon-database'><use xlink:href='#icon-database'></use></svg></label><div class='xr-var-attrs'><dl class='xr-attrs'><dt><span>long_name :</span></dt><dd>Date of update of this file</dd><dt><span>conventions :</span></dt><dd>YYYYMMDDHHMISS</dd></dl></div><pre class='xr-var-data'>array(b&#x27;20190115112524&#x27;, dtype=object)</pre></li><li class='xr-var-item'><div class='xr-var-name'><span>PLATFORM_NUMBER</span></div><div class='xr-var-dims'>(N_PROF)</div><div class='xr-var-dtype'>object</div><div class='xr-var-preview xr-preview'>...</div><input id='attrs-4b6d542d-34d4-47ef-bdec-6568913ecf94' class='xr-var-attrs-in' type='checkbox' ><label for='attrs-4b6d542d-34d4-47ef-bdec-6568913ecf94' title='Show/Hide attributes'><svg class='icon xr-icon-file-text2'><use xlink:href='#icon-file-text2'></use></svg></label><input id='data-c8e25306-f3ae-49ce-8add-e10c9ba98cf6' class='xr-var-data-in' type='checkbox'><label for='data-c8e25306-f3ae-49ce-8add-e10c9ba98cf6' title='Show/Hide data repr'><svg class='icon xr-icon-database'><use xlink:href='#icon-database'></use></svg></label><div class='xr-var-attrs'><dl class='xr-attrs'><dt><span>long_name :</span></dt><dd>Float unique identifier</dd><dt><span>conventions :</span></dt><dd>WMO float identifier : A9IIIII</dd></dl></div><pre class='xr-var-data'>array([b&#x27;6901254 &#x27;, b&#x27;6901254 &#x27;], dtype=object)</pre></li><li class='xr-var-item'><div class='xr-var-name'><span>PROJECT_NAME</span></div><div class='xr-var-dims'>(N_PROF)</div><div class='xr-var-dtype'>object</div><div class='xr-var-preview xr-preview'>...</div><input id='attrs-a6b7134a-8d0d-43b0-a98b-fc9f1e9bd09e' class='xr-var-attrs-in' type='checkbox' ><label for='attrs-a6b7134a-8d0d-43b0-a98b-fc9f1e9bd09e' title='Show/Hide attributes'><svg class='icon xr-icon-file-text2'><use xlink:href='#icon-file-text2'></use></svg></label><input id='data-29d75108-0d9f-42cd-9a90-4818043aaaa1' class='xr-var-data-in' type='checkbox'><label for='data-29d75108-0d9f-42cd-9a90-4818043aaaa1' title='Show/Hide data repr'><svg class='icon xr-icon-database'><use xlink:href='#icon-database'></use></svg></label><div class='xr-var-attrs'><dl class='xr-attrs'><dt><span>long_name :</span></dt><dd>Name of the project</dd></dl></div><pre class='xr-var-data'>array([b&#x27;ARGO SPAIN                                                      &#x27;,\n",
       "       b&#x27;ARGO SPAIN                                                      &#x27;],\n",
       "      dtype=object)</pre></li><li class='xr-var-item'><div class='xr-var-name'><span>PI_NAME</span></div><div class='xr-var-dims'>(N_PROF)</div><div class='xr-var-dtype'>object</div><div class='xr-var-preview xr-preview'>...</div><input id='attrs-81925908-67e4-4422-b14a-e29fcdd32e5b' class='xr-var-attrs-in' type='checkbox' ><label for='attrs-81925908-67e4-4422-b14a-e29fcdd32e5b' title='Show/Hide attributes'><svg class='icon xr-icon-file-text2'><use xlink:href='#icon-file-text2'></use></svg></label><input id='data-813d97f6-402a-4315-99f8-bd94bc6874ea' class='xr-var-data-in' type='checkbox'><label for='data-813d97f6-402a-4315-99f8-bd94bc6874ea' title='Show/Hide data repr'><svg class='icon xr-icon-database'><use xlink:href='#icon-database'></use></svg></label><div class='xr-var-attrs'><dl class='xr-attrs'><dt><span>long_name :</span></dt><dd>Name of the principal investigator</dd></dl></div><pre class='xr-var-data'>array([b&#x27;Pedro Velez                                                     &#x27;,\n",
       "       b&#x27;Pedro Velez                                                     &#x27;],\n",
       "      dtype=object)</pre></li><li class='xr-var-item'><div class='xr-var-name'><span>STATION_PARAMETERS</span></div><div class='xr-var-dims'>(N_PROF, N_PARAM)</div><div class='xr-var-dtype'>object</div><div class='xr-var-preview xr-preview'>...</div><input id='attrs-37b400e4-0dff-4f33-aec7-04210f569731' class='xr-var-attrs-in' type='checkbox' ><label for='attrs-37b400e4-0dff-4f33-aec7-04210f569731' title='Show/Hide attributes'><svg class='icon xr-icon-file-text2'><use xlink:href='#icon-file-text2'></use></svg></label><input id='data-a435081a-dd50-4a9d-bb4b-a2056e244cba' class='xr-var-data-in' type='checkbox'><label for='data-a435081a-dd50-4a9d-bb4b-a2056e244cba' title='Show/Hide data repr'><svg class='icon xr-icon-database'><use xlink:href='#icon-database'></use></svg></label><div class='xr-var-attrs'><dl class='xr-attrs'><dt><span>long_name :</span></dt><dd>List of available parameters for the station</dd><dt><span>conventions :</span></dt><dd>Argo reference table 3</dd></dl></div><pre class='xr-var-data'>array([[b&#x27;PRES            &#x27;, b&#x27;TEMP            &#x27;, b&#x27;PSAL            &#x27;],\n",
       "       [b&#x27;PRES            &#x27;, b&#x27;TEMP            &#x27;, b&#x27;PSAL            &#x27;]],\n",
       "      dtype=object)</pre></li><li class='xr-var-item'><div class='xr-var-name'><span>CYCLE_NUMBER</span></div><div class='xr-var-dims'>(N_PROF)</div><div class='xr-var-dtype'>float64</div><div class='xr-var-preview xr-preview'>...</div><input id='attrs-3c75112f-8357-4164-9920-b75527b1bda3' class='xr-var-attrs-in' type='checkbox' ><label for='attrs-3c75112f-8357-4164-9920-b75527b1bda3' title='Show/Hide attributes'><svg class='icon xr-icon-file-text2'><use xlink:href='#icon-file-text2'></use></svg></label><input id='data-ee7bad68-26c3-43c8-84fe-42f050fe4588' class='xr-var-data-in' type='checkbox'><label for='data-ee7bad68-26c3-43c8-84fe-42f050fe4588' title='Show/Hide data repr'><svg class='icon xr-icon-database'><use xlink:href='#icon-database'></use></svg></label><div class='xr-var-attrs'><dl class='xr-attrs'><dt><span>long_name :</span></dt><dd>Float cycle number</dd><dt><span>conventions :</span></dt><dd>0...N, 0 : launch cycle (if exists), 1 : first complete cycle</dd></dl></div><pre class='xr-var-data'>array([1., 1.])</pre></li><li class='xr-var-item'><div class='xr-var-name'><span>DIRECTION</span></div><div class='xr-var-dims'>(N_PROF)</div><div class='xr-var-dtype'>object</div><div class='xr-var-preview xr-preview'>...</div><input id='attrs-6632fcf3-4c1f-43b5-839c-1a498efe0b08' class='xr-var-attrs-in' type='checkbox' ><label for='attrs-6632fcf3-4c1f-43b5-839c-1a498efe0b08' title='Show/Hide attributes'><svg class='icon xr-icon-file-text2'><use xlink:href='#icon-file-text2'></use></svg></label><input id='data-d66f78fb-60f3-40ae-8aed-4f05e2e2b556' class='xr-var-data-in' type='checkbox'><label for='data-d66f78fb-60f3-40ae-8aed-4f05e2e2b556' title='Show/Hide data repr'><svg class='icon xr-icon-database'><use xlink:href='#icon-database'></use></svg></label><div class='xr-var-attrs'><dl class='xr-attrs'><dt><span>long_name :</span></dt><dd>Direction of the station profiles</dd><dt><span>conventions :</span></dt><dd>A: ascending profiles, D: descending profiles</dd></dl></div><pre class='xr-var-data'>array([b&#x27;A&#x27;, b&#x27;A&#x27;], dtype=object)</pre></li><li class='xr-var-item'><div class='xr-var-name'><span>DATA_CENTRE</span></div><div class='xr-var-dims'>(N_PROF)</div><div class='xr-var-dtype'>object</div><div class='xr-var-preview xr-preview'>...</div><input id='attrs-aa61d0b0-71ac-4258-917f-7bae630833ec' class='xr-var-attrs-in' type='checkbox' ><label for='attrs-aa61d0b0-71ac-4258-917f-7bae630833ec' title='Show/Hide attributes'><svg class='icon xr-icon-file-text2'><use xlink:href='#icon-file-text2'></use></svg></label><input id='data-e3d83457-9ddb-4d5a-84c9-83638461c456' class='xr-var-data-in' type='checkbox'><label for='data-e3d83457-9ddb-4d5a-84c9-83638461c456' title='Show/Hide data repr'><svg class='icon xr-icon-database'><use xlink:href='#icon-database'></use></svg></label><div class='xr-var-attrs'><dl class='xr-attrs'><dt><span>long_name :</span></dt><dd>Data centre in charge of float data processing</dd><dt><span>conventions :</span></dt><dd>Argo reference table 4</dd></dl></div><pre class='xr-var-data'>array([b&#x27;IF&#x27;, b&#x27;IF&#x27;], dtype=object)</pre></li><li class='xr-var-item'><div class='xr-var-name'><span>DC_REFERENCE</span></div><div class='xr-var-dims'>(N_PROF)</div><div class='xr-var-dtype'>object</div><div class='xr-var-preview xr-preview'>...</div><input id='attrs-a8e6b073-394a-47b1-9eaf-31c146e2843a' class='xr-var-attrs-in' type='checkbox' ><label for='attrs-a8e6b073-394a-47b1-9eaf-31c146e2843a' title='Show/Hide attributes'><svg class='icon xr-icon-file-text2'><use xlink:href='#icon-file-text2'></use></svg></label><input id='data-719bdee9-e1d6-4325-86a9-a178d7b2a062' class='xr-var-data-in' type='checkbox'><label for='data-719bdee9-e1d6-4325-86a9-a178d7b2a062' title='Show/Hide data repr'><svg class='icon xr-icon-database'><use xlink:href='#icon-database'></use></svg></label><div class='xr-var-attrs'><dl class='xr-attrs'><dt><span>long_name :</span></dt><dd>Station unique identifier in data centre</dd><dt><span>conventions :</span></dt><dd>Data centre convention</dd></dl></div><pre class='xr-var-data'>array([b&#x27;                                &#x27;,\n",
       "       b&#x27;                                &#x27;], dtype=object)</pre></li><li class='xr-var-item'><div class='xr-var-name'><span>DATA_STATE_INDICATOR</span></div><div class='xr-var-dims'>(N_PROF)</div><div class='xr-var-dtype'>object</div><div class='xr-var-preview xr-preview'>...</div><input id='attrs-9a911827-691e-429b-ab5e-6cf778aee71d' class='xr-var-attrs-in' type='checkbox' ><label for='attrs-9a911827-691e-429b-ab5e-6cf778aee71d' title='Show/Hide attributes'><svg class='icon xr-icon-file-text2'><use xlink:href='#icon-file-text2'></use></svg></label><input id='data-43a1b7d5-b38c-4ea7-8507-d2c717f983cd' class='xr-var-data-in' type='checkbox'><label for='data-43a1b7d5-b38c-4ea7-8507-d2c717f983cd' title='Show/Hide data repr'><svg class='icon xr-icon-database'><use xlink:href='#icon-database'></use></svg></label><div class='xr-var-attrs'><dl class='xr-attrs'><dt><span>long_name :</span></dt><dd>Degree of processing the data have passed through</dd><dt><span>conventions :</span></dt><dd>Argo reference table 6</dd></dl></div><pre class='xr-var-data'>array([b&#x27;2B  &#x27;, b&#x27;2B  &#x27;], dtype=object)</pre></li><li class='xr-var-item'><div class='xr-var-name'><span>DATA_MODE</span></div><div class='xr-var-dims'>(N_PROF)</div><div class='xr-var-dtype'>object</div><div class='xr-var-preview xr-preview'>...</div><input id='attrs-50342254-ab0b-4a67-ae2a-a648873f8aa8' class='xr-var-attrs-in' type='checkbox' ><label for='attrs-50342254-ab0b-4a67-ae2a-a648873f8aa8' title='Show/Hide attributes'><svg class='icon xr-icon-file-text2'><use xlink:href='#icon-file-text2'></use></svg></label><input id='data-e7087441-81cd-4521-a4bb-66f0a35aa3aa' class='xr-var-data-in' type='checkbox'><label for='data-e7087441-81cd-4521-a4bb-66f0a35aa3aa' title='Show/Hide data repr'><svg class='icon xr-icon-database'><use xlink:href='#icon-database'></use></svg></label><div class='xr-var-attrs'><dl class='xr-attrs'><dt><span>long_name :</span></dt><dd>Delayed mode or real time data</dd><dt><span>conventions :</span></dt><dd>R : real time; D : delayed mode; A : real time with adjustment</dd></dl></div><pre class='xr-var-data'>array([b&#x27;R&#x27;, b&#x27;R&#x27;], dtype=object)</pre></li><li class='xr-var-item'><div class='xr-var-name'><span>PLATFORM_TYPE</span></div><div class='xr-var-dims'>(N_PROF)</div><div class='xr-var-dtype'>object</div><div class='xr-var-preview xr-preview'>...</div><input id='attrs-c54a5a8b-f604-498e-a84e-92acab02e659' class='xr-var-attrs-in' type='checkbox' ><label for='attrs-c54a5a8b-f604-498e-a84e-92acab02e659' title='Show/Hide attributes'><svg class='icon xr-icon-file-text2'><use xlink:href='#icon-file-text2'></use></svg></label><input id='data-dd7cdee2-be91-4a1f-9ffd-22c231b149c8' class='xr-var-data-in' type='checkbox'><label for='data-dd7cdee2-be91-4a1f-9ffd-22c231b149c8' title='Show/Hide data repr'><svg class='icon xr-icon-database'><use xlink:href='#icon-database'></use></svg></label><div class='xr-var-attrs'><dl class='xr-attrs'><dt><span>long_name :</span></dt><dd>Type of float</dd><dt><span>conventions :</span></dt><dd>Argo reference table 23</dd></dl></div><pre class='xr-var-data'>array([b&#x27;ARVOR                           &#x27;,\n",
       "       b&#x27;ARVOR                           &#x27;], dtype=object)</pre></li><li class='xr-var-item'><div class='xr-var-name'><span>FLOAT_SERIAL_NO</span></div><div class='xr-var-dims'>(N_PROF)</div><div class='xr-var-dtype'>object</div><div class='xr-var-preview xr-preview'>...</div><input id='attrs-bbf92d29-106d-43cd-abe2-1979fd0f49c3' class='xr-var-attrs-in' type='checkbox' ><label for='attrs-bbf92d29-106d-43cd-abe2-1979fd0f49c3' title='Show/Hide attributes'><svg class='icon xr-icon-file-text2'><use xlink:href='#icon-file-text2'></use></svg></label><input id='data-1a64b3e0-d73e-4acb-a9b8-9afa0ef8d19c' class='xr-var-data-in' type='checkbox'><label for='data-1a64b3e0-d73e-4acb-a9b8-9afa0ef8d19c' title='Show/Hide data repr'><svg class='icon xr-icon-database'><use xlink:href='#icon-database'></use></svg></label><div class='xr-var-attrs'><dl class='xr-attrs'><dt><span>long_name :</span></dt><dd>Serial number of the float</dd></dl></div><pre class='xr-var-data'>array([b&#x27;AL2500-17SP003                  &#x27;,\n",
       "       b&#x27;AL2500-17SP003                  &#x27;], dtype=object)</pre></li><li class='xr-var-item'><div class='xr-var-name'><span>FIRMWARE_VERSION</span></div><div class='xr-var-dims'>(N_PROF)</div><div class='xr-var-dtype'>object</div><div class='xr-var-preview xr-preview'>...</div><input id='attrs-35dc495a-6e27-48ae-b6d7-51653a28c17c' class='xr-var-attrs-in' type='checkbox' ><label for='attrs-35dc495a-6e27-48ae-b6d7-51653a28c17c' title='Show/Hide attributes'><svg class='icon xr-icon-file-text2'><use xlink:href='#icon-file-text2'></use></svg></label><input id='data-d32c8d56-7f64-4fa2-859e-3fef178dc0a3' class='xr-var-data-in' type='checkbox'><label for='data-d32c8d56-7f64-4fa2-859e-3fef178dc0a3' title='Show/Hide data repr'><svg class='icon xr-icon-database'><use xlink:href='#icon-database'></use></svg></label><div class='xr-var-attrs'><dl class='xr-attrs'><dt><span>long_name :</span></dt><dd>Instrument firmware version</dd></dl></div><pre class='xr-var-data'>array([b&#x27;n/a                             &#x27;,\n",
       "       b&#x27;n/a                             &#x27;], dtype=object)</pre></li><li class='xr-var-item'><div class='xr-var-name'><span>WMO_INST_TYPE</span></div><div class='xr-var-dims'>(N_PROF)</div><div class='xr-var-dtype'>object</div><div class='xr-var-preview xr-preview'>...</div><input id='attrs-7f6516b4-2116-429f-948f-7ab391373191' class='xr-var-attrs-in' type='checkbox' ><label for='attrs-7f6516b4-2116-429f-948f-7ab391373191' title='Show/Hide attributes'><svg class='icon xr-icon-file-text2'><use xlink:href='#icon-file-text2'></use></svg></label><input id='data-018eaab9-8534-4dca-9e75-1b70129b9f3a' class='xr-var-data-in' type='checkbox'><label for='data-018eaab9-8534-4dca-9e75-1b70129b9f3a' title='Show/Hide data repr'><svg class='icon xr-icon-database'><use xlink:href='#icon-database'></use></svg></label><div class='xr-var-attrs'><dl class='xr-attrs'><dt><span>long_name :</span></dt><dd>Coded instrument type</dd><dt><span>conventions :</span></dt><dd>Argo reference table 8</dd></dl></div><pre class='xr-var-data'>array([b&#x27;844 &#x27;, b&#x27;844 &#x27;], dtype=object)</pre></li><li class='xr-var-item'><div class='xr-var-name'><span>JULD</span></div><div class='xr-var-dims'>(N_PROF)</div><div class='xr-var-dtype'>datetime64[ns]</div><div class='xr-var-preview xr-preview'>...</div><input id='attrs-e02cfe98-5eb2-4cd8-a97c-4307cb52d011' class='xr-var-attrs-in' type='checkbox' ><label for='attrs-e02cfe98-5eb2-4cd8-a97c-4307cb52d011' title='Show/Hide attributes'><svg class='icon xr-icon-file-text2'><use xlink:href='#icon-file-text2'></use></svg></label><input id='data-a83bb6b8-a0e2-43fa-a561-50f08f5f43cc' class='xr-var-data-in' type='checkbox'><label for='data-a83bb6b8-a0e2-43fa-a561-50f08f5f43cc' title='Show/Hide data repr'><svg class='icon xr-icon-database'><use xlink:href='#icon-database'></use></svg></label><div class='xr-var-attrs'><dl class='xr-attrs'><dt><span>long_name :</span></dt><dd>Julian day (UTC) of the station relative to REFERENCE_DATE_TIME</dd><dt><span>standard_name :</span></dt><dd>time</dd><dt><span>conventions :</span></dt><dd>Relative julian days with decimal part (as parts of day)</dd><dt><span>resolution :</span></dt><dd>0.0006944444444444445</dd><dt><span>axis :</span></dt><dd>T</dd><dt><span>comment_on_resolution :</span></dt><dd>JULD resolution is 1 minute, except when JULD = JULD_LOCATION or when JULD = JULD_FIRST_MESSAGE (TRAJ file variable); in that case, JULD resolution is 1 second</dd></dl></div><pre class='xr-var-data'>array([&#x27;2018-10-25T05:30:00.000000000&#x27;, &#x27;2018-10-25T05:30:00.000000000&#x27;],\n",
       "      dtype=&#x27;datetime64[ns]&#x27;)</pre></li><li class='xr-var-item'><div class='xr-var-name'><span>JULD_QC</span></div><div class='xr-var-dims'>(N_PROF)</div><div class='xr-var-dtype'>object</div><div class='xr-var-preview xr-preview'>...</div><input id='attrs-28ee8c74-df6a-4c4e-a9a4-f85d743c4cd1' class='xr-var-attrs-in' type='checkbox' ><label for='attrs-28ee8c74-df6a-4c4e-a9a4-f85d743c4cd1' title='Show/Hide attributes'><svg class='icon xr-icon-file-text2'><use xlink:href='#icon-file-text2'></use></svg></label><input id='data-c62db2c6-af56-4241-8f95-9bd33e49dc1b' class='xr-var-data-in' type='checkbox'><label for='data-c62db2c6-af56-4241-8f95-9bd33e49dc1b' title='Show/Hide data repr'><svg class='icon xr-icon-database'><use xlink:href='#icon-database'></use></svg></label><div class='xr-var-attrs'><dl class='xr-attrs'><dt><span>long_name :</span></dt><dd>Quality on date and time</dd><dt><span>conventions :</span></dt><dd>Argo reference table 2</dd></dl></div><pre class='xr-var-data'>array([b&#x27;1&#x27;, b&#x27;1&#x27;], dtype=object)</pre></li><li class='xr-var-item'><div class='xr-var-name'><span>JULD_LOCATION</span></div><div class='xr-var-dims'>(N_PROF)</div><div class='xr-var-dtype'>datetime64[ns]</div><div class='xr-var-preview xr-preview'>...</div><input id='attrs-b64bdcb9-d7f4-44fc-97dc-f393a08f2a0a' class='xr-var-attrs-in' type='checkbox' ><label for='attrs-b64bdcb9-d7f4-44fc-97dc-f393a08f2a0a' title='Show/Hide attributes'><svg class='icon xr-icon-file-text2'><use xlink:href='#icon-file-text2'></use></svg></label><input id='data-6003aa06-87a5-4452-b749-0e71e3d9fa39' class='xr-var-data-in' type='checkbox'><label for='data-6003aa06-87a5-4452-b749-0e71e3d9fa39' title='Show/Hide data repr'><svg class='icon xr-icon-database'><use xlink:href='#icon-database'></use></svg></label><div class='xr-var-attrs'><dl class='xr-attrs'><dt><span>long_name :</span></dt><dd>Julian day (UTC) of the location relative to REFERENCE_DATE_TIME</dd><dt><span>conventions :</span></dt><dd>Relative julian days with decimal part (as parts of day)</dd><dt><span>resolution :</span></dt><dd>1.1574074074074073e-05</dd></dl></div><pre class='xr-var-data'>array([&#x27;2018-10-25T05:45:54.000002048&#x27;, &#x27;2018-10-25T05:45:54.000002048&#x27;],\n",
       "      dtype=&#x27;datetime64[ns]&#x27;)</pre></li><li class='xr-var-item'><div class='xr-var-name'><span>LATITUDE</span></div><div class='xr-var-dims'>(N_PROF)</div><div class='xr-var-dtype'>float64</div><div class='xr-var-preview xr-preview'>...</div><input id='attrs-6e2837a1-4b58-4173-a761-2d246395ea9b' class='xr-var-attrs-in' type='checkbox' ><label for='attrs-6e2837a1-4b58-4173-a761-2d246395ea9b' title='Show/Hide attributes'><svg class='icon xr-icon-file-text2'><use xlink:href='#icon-file-text2'></use></svg></label><input id='data-9fec4dcc-3e48-4bc6-9acf-7a51eed8362f' class='xr-var-data-in' type='checkbox'><label for='data-9fec4dcc-3e48-4bc6-9acf-7a51eed8362f' title='Show/Hide data repr'><svg class='icon xr-icon-database'><use xlink:href='#icon-database'></use></svg></label><div class='xr-var-attrs'><dl class='xr-attrs'><dt><span>long_name :</span></dt><dd>Latitude of the station, best estimate</dd><dt><span>standard_name :</span></dt><dd>latitude</dd><dt><span>units :</span></dt><dd>degree_north</dd><dt><span>valid_min :</span></dt><dd>-90.0</dd><dt><span>valid_max :</span></dt><dd>90.0</dd><dt><span>axis :</span></dt><dd>Y</dd></dl></div><pre class='xr-var-data'>array([29.182, 29.182])</pre></li><li class='xr-var-item'><div class='xr-var-name'><span>LONGITUDE</span></div><div class='xr-var-dims'>(N_PROF)</div><div class='xr-var-dtype'>float64</div><div class='xr-var-preview xr-preview'>...</div><input id='attrs-1ef172cb-0a04-4f29-83d5-ffc042e582f6' class='xr-var-attrs-in' type='checkbox' ><label for='attrs-1ef172cb-0a04-4f29-83d5-ffc042e582f6' title='Show/Hide attributes'><svg class='icon xr-icon-file-text2'><use xlink:href='#icon-file-text2'></use></svg></label><input id='data-5a3ff165-abc5-4005-b505-a5d3a9b9f230' class='xr-var-data-in' type='checkbox'><label for='data-5a3ff165-abc5-4005-b505-a5d3a9b9f230' title='Show/Hide data repr'><svg class='icon xr-icon-database'><use xlink:href='#icon-database'></use></svg></label><div class='xr-var-attrs'><dl class='xr-attrs'><dt><span>long_name :</span></dt><dd>Longitude of the station, best estimate</dd><dt><span>standard_name :</span></dt><dd>longitude</dd><dt><span>units :</span></dt><dd>degree_east</dd><dt><span>valid_min :</span></dt><dd>-180.0</dd><dt><span>valid_max :</span></dt><dd>180.0</dd><dt><span>axis :</span></dt><dd>X</dd></dl></div><pre class='xr-var-data'>array([-15.429, -15.429])</pre></li><li class='xr-var-item'><div class='xr-var-name'><span>POSITION_QC</span></div><div class='xr-var-dims'>(N_PROF)</div><div class='xr-var-dtype'>object</div><div class='xr-var-preview xr-preview'>...</div><input id='attrs-870483be-ad36-468d-8c4b-55936fd9e251' class='xr-var-attrs-in' type='checkbox' ><label for='attrs-870483be-ad36-468d-8c4b-55936fd9e251' title='Show/Hide attributes'><svg class='icon xr-icon-file-text2'><use xlink:href='#icon-file-text2'></use></svg></label><input id='data-44d1bcf4-d649-4204-99fe-080fd306407e' class='xr-var-data-in' type='checkbox'><label for='data-44d1bcf4-d649-4204-99fe-080fd306407e' title='Show/Hide data repr'><svg class='icon xr-icon-database'><use xlink:href='#icon-database'></use></svg></label><div class='xr-var-attrs'><dl class='xr-attrs'><dt><span>long_name :</span></dt><dd>Quality on position (latitude and longitude)</dd><dt><span>conventions :</span></dt><dd>Argo reference table 2</dd></dl></div><pre class='xr-var-data'>array([b&#x27;1&#x27;, b&#x27;1&#x27;], dtype=object)</pre></li><li class='xr-var-item'><div class='xr-var-name'><span>POSITIONING_SYSTEM</span></div><div class='xr-var-dims'>(N_PROF)</div><div class='xr-var-dtype'>object</div><div class='xr-var-preview xr-preview'>...</div><input id='attrs-98946231-6eaa-4d0a-b466-dfec1638efe3' class='xr-var-attrs-in' type='checkbox' ><label for='attrs-98946231-6eaa-4d0a-b466-dfec1638efe3' title='Show/Hide attributes'><svg class='icon xr-icon-file-text2'><use xlink:href='#icon-file-text2'></use></svg></label><input id='data-9807a817-8acc-4c43-8067-3a83418a111b' class='xr-var-data-in' type='checkbox'><label for='data-9807a817-8acc-4c43-8067-3a83418a111b' title='Show/Hide data repr'><svg class='icon xr-icon-database'><use xlink:href='#icon-database'></use></svg></label><div class='xr-var-attrs'><dl class='xr-attrs'><dt><span>long_name :</span></dt><dd>Positioning system</dd></dl></div><pre class='xr-var-data'>array([b&#x27;ARGOS   &#x27;, b&#x27;ARGOS   &#x27;], dtype=object)</pre></li><li class='xr-var-item'><div class='xr-var-name'><span>PROFILE_PRES_QC</span></div><div class='xr-var-dims'>(N_PROF)</div><div class='xr-var-dtype'>object</div><div class='xr-var-preview xr-preview'>...</div><input id='attrs-aceae9b8-eb91-466d-8a03-27a382f6ceda' class='xr-var-attrs-in' type='checkbox' ><label for='attrs-aceae9b8-eb91-466d-8a03-27a382f6ceda' title='Show/Hide attributes'><svg class='icon xr-icon-file-text2'><use xlink:href='#icon-file-text2'></use></svg></label><input id='data-f19463ee-521c-4892-98d1-c77e5909ffd7' class='xr-var-data-in' type='checkbox'><label for='data-f19463ee-521c-4892-98d1-c77e5909ffd7' title='Show/Hide data repr'><svg class='icon xr-icon-database'><use xlink:href='#icon-database'></use></svg></label><div class='xr-var-attrs'><dl class='xr-attrs'><dt><span>long_name :</span></dt><dd>Global quality flag of PRES profile</dd><dt><span>conventions :</span></dt><dd>Argo reference table 2a</dd></dl></div><pre class='xr-var-data'>array([b&#x27;A&#x27;, b&#x27;A&#x27;], dtype=object)</pre></li><li class='xr-var-item'><div class='xr-var-name'><span>PROFILE_TEMP_QC</span></div><div class='xr-var-dims'>(N_PROF)</div><div class='xr-var-dtype'>object</div><div class='xr-var-preview xr-preview'>...</div><input id='attrs-280b9d8a-a78a-4359-b7c5-47f8e1b5b594' class='xr-var-attrs-in' type='checkbox' ><label for='attrs-280b9d8a-a78a-4359-b7c5-47f8e1b5b594' title='Show/Hide attributes'><svg class='icon xr-icon-file-text2'><use xlink:href='#icon-file-text2'></use></svg></label><input id='data-e5d91d83-6f01-44d1-8600-f0c58e68fcc5' class='xr-var-data-in' type='checkbox'><label for='data-e5d91d83-6f01-44d1-8600-f0c58e68fcc5' title='Show/Hide data repr'><svg class='icon xr-icon-database'><use xlink:href='#icon-database'></use></svg></label><div class='xr-var-attrs'><dl class='xr-attrs'><dt><span>long_name :</span></dt><dd>Global quality flag of TEMP profile</dd><dt><span>conventions :</span></dt><dd>Argo reference table 2a</dd></dl></div><pre class='xr-var-data'>array([b&#x27;A&#x27;, b&#x27;C&#x27;], dtype=object)</pre></li><li class='xr-var-item'><div class='xr-var-name'><span>PROFILE_PSAL_QC</span></div><div class='xr-var-dims'>(N_PROF)</div><div class='xr-var-dtype'>object</div><div class='xr-var-preview xr-preview'>...</div><input id='attrs-c59ec622-484b-4ab3-bbad-4923697f425b' class='xr-var-attrs-in' type='checkbox' ><label for='attrs-c59ec622-484b-4ab3-bbad-4923697f425b' title='Show/Hide attributes'><svg class='icon xr-icon-file-text2'><use xlink:href='#icon-file-text2'></use></svg></label><input id='data-45df9c68-f732-43a8-94a4-905aa918eeb7' class='xr-var-data-in' type='checkbox'><label for='data-45df9c68-f732-43a8-94a4-905aa918eeb7' title='Show/Hide data repr'><svg class='icon xr-icon-database'><use xlink:href='#icon-database'></use></svg></label><div class='xr-var-attrs'><dl class='xr-attrs'><dt><span>long_name :</span></dt><dd>Global quality flag of PSAL profile</dd><dt><span>conventions :</span></dt><dd>Argo reference table 2a</dd></dl></div><pre class='xr-var-data'>array([b&#x27;A&#x27;, b&#x27;F&#x27;], dtype=object)</pre></li><li class='xr-var-item'><div class='xr-var-name'><span>VERTICAL_SAMPLING_SCHEME</span></div><div class='xr-var-dims'>(N_PROF)</div><div class='xr-var-dtype'>object</div><div class='xr-var-preview xr-preview'>...</div><input id='attrs-9c09ba3e-173b-4dd1-a02e-5f93b9d2ae2f' class='xr-var-attrs-in' type='checkbox' ><label for='attrs-9c09ba3e-173b-4dd1-a02e-5f93b9d2ae2f' title='Show/Hide attributes'><svg class='icon xr-icon-file-text2'><use xlink:href='#icon-file-text2'></use></svg></label><input id='data-f421bc9b-723a-419d-8919-4fe8b76d5f86' class='xr-var-data-in' type='checkbox'><label for='data-f421bc9b-723a-419d-8919-4fe8b76d5f86' title='Show/Hide data repr'><svg class='icon xr-icon-database'><use xlink:href='#icon-database'></use></svg></label><div class='xr-var-attrs'><dl class='xr-attrs'><dt><span>long_name :</span></dt><dd>Vertical sampling scheme</dd><dt><span>conventions :</span></dt><dd>Argo reference table 16</dd></dl></div><pre class='xr-var-data'>array([b&#x27;Primary sampling: averaged [10 sec sampling, 25 dbar average from 2000 dbar to 200 dbar; 10 sec sampling, 10 dbar average from 200 dbar to 10 dbar; 10 sec sampling, 1 dbar average from 10 dbar to 5.5 dbar]                                                   &#x27;,\n",
       "       b&#x27;Near-surface sampling: averaged, unpumped [10 sec sampling, 1 dbar average from 5.5 dbar to surface]                                                                                                                                                            &#x27;],\n",
       "      dtype=object)</pre></li><li class='xr-var-item'><div class='xr-var-name'><span>CONFIG_MISSION_NUMBER</span></div><div class='xr-var-dims'>(N_PROF)</div><div class='xr-var-dtype'>float64</div><div class='xr-var-preview xr-preview'>...</div><input id='attrs-fd962a33-70e1-492b-b3de-288451c3d6a8' class='xr-var-attrs-in' type='checkbox' ><label for='attrs-fd962a33-70e1-492b-b3de-288451c3d6a8' title='Show/Hide attributes'><svg class='icon xr-icon-file-text2'><use xlink:href='#icon-file-text2'></use></svg></label><input id='data-ac4e4a86-e05c-4241-b31e-cf9b05da3240' class='xr-var-data-in' type='checkbox'><label for='data-ac4e4a86-e05c-4241-b31e-cf9b05da3240' title='Show/Hide data repr'><svg class='icon xr-icon-database'><use xlink:href='#icon-database'></use></svg></label><div class='xr-var-attrs'><dl class='xr-attrs'><dt><span>long_name :</span></dt><dd>Unique number denoting the missions performed by the float</dd><dt><span>conventions :</span></dt><dd>1...N, 1 : first complete mission</dd></dl></div><pre class='xr-var-data'>array([1., 1.])</pre></li><li class='xr-var-item'><div class='xr-var-name'><span>PRES</span></div><div class='xr-var-dims'>(N_PROF, N_LEVELS)</div><div class='xr-var-dtype'>float32</div><div class='xr-var-preview xr-preview'>...</div><input id='attrs-ecbd6774-a89b-4cf0-a7cc-b44b84dd5311' class='xr-var-attrs-in' type='checkbox' ><label for='attrs-ecbd6774-a89b-4cf0-a7cc-b44b84dd5311' title='Show/Hide attributes'><svg class='icon xr-icon-file-text2'><use xlink:href='#icon-file-text2'></use></svg></label><input id='data-e6532d0e-3b49-4d68-84c1-fed24fde90de' class='xr-var-data-in' type='checkbox'><label for='data-e6532d0e-3b49-4d68-84c1-fed24fde90de' title='Show/Hide data repr'><svg class='icon xr-icon-database'><use xlink:href='#icon-database'></use></svg></label><div class='xr-var-attrs'><dl class='xr-attrs'><dt><span>long_name :</span></dt><dd>Sea water pressure, equals 0 at sea-level</dd><dt><span>standard_name :</span></dt><dd>sea_water_pressure</dd><dt><span>units :</span></dt><dd>decibar</dd><dt><span>valid_min :</span></dt><dd>0.0</dd><dt><span>valid_max :</span></dt><dd>12000.0</dd><dt><span>C_format :</span></dt><dd>%7.1f</dd><dt><span>FORTRAN_format :</span></dt><dd>F7.1</dd><dt><span>resolution :</span></dt><dd>1.0</dd><dt><span>axis :</span></dt><dd>Z</dd></dl></div><pre class='xr-var-data'>array([[6.000e+00, 7.000e+00, 8.000e+00, 9.000e+00, 1.000e+01, 1.500e+01,\n",
       "        2.500e+01, 3.600e+01, 4.500e+01, 5.500e+01, 6.600e+01, 7.600e+01,\n",
       "        8.600e+01, 9.600e+01, 1.050e+02, 1.150e+02, 1.250e+02, 1.350e+02,\n",
       "        1.460e+02, 1.550e+02, 1.650e+02, 1.750e+02, 1.850e+02, 1.950e+02,\n",
       "        2.130e+02, 2.380e+02, 2.630e+02, 2.880e+02, 3.130e+02, 3.380e+02,\n",
       "        3.630e+02, 3.880e+02, 4.140e+02, 4.380e+02, 4.630e+02, 4.880e+02,\n",
       "        5.130e+02, 5.380e+02, 5.630e+02, 5.880e+02, 6.130e+02, 6.380e+02,\n",
       "        6.630e+02, 6.880e+02, 7.130e+02, 7.380e+02, 7.630e+02, 7.880e+02,\n",
       "        8.130e+02, 8.380e+02, 8.630e+02, 8.880e+02, 9.130e+02, 9.380e+02,\n",
       "        9.630e+02, 9.880e+02, 1.013e+03, 1.038e+03, 1.063e+03, 1.088e+03,\n",
       "        1.113e+03, 1.138e+03, 1.163e+03, 1.188e+03, 1.213e+03, 1.238e+03,\n",
       "        1.263e+03, 1.288e+03, 1.313e+03, 1.338e+03, 1.363e+03, 1.388e+03,\n",
       "        1.414e+03, 1.438e+03, 1.463e+03, 1.488e+03, 1.513e+03, 1.538e+03,\n",
       "        1.564e+03, 1.588e+03, 1.613e+03, 1.638e+03, 1.663e+03, 1.688e+03,\n",
       "        1.713e+03, 1.738e+03, 1.763e+03, 1.788e+03, 1.813e+03, 1.838e+03,\n",
       "        1.863e+03, 1.888e+03, 1.913e+03, 1.938e+03, 1.963e+03, 1.988e+03,\n",
       "        2.011e+03],\n",
       "       [0.000e+00, 1.000e+00, 2.000e+00, 3.000e+00, 4.000e+00, 5.000e+00,\n",
       "              nan,       nan,       nan,       nan,       nan,       nan,\n",
       "              nan,       nan,       nan,       nan,       nan,       nan,\n",
       "              nan,       nan,       nan,       nan,       nan,       nan,\n",
       "              nan,       nan,       nan,       nan,       nan,       nan,\n",
       "              nan,       nan,       nan,       nan,       nan,       nan,\n",
       "              nan,       nan,       nan,       nan,       nan,       nan,\n",
       "              nan,       nan,       nan,       nan,       nan,       nan,\n",
       "              nan,       nan,       nan,       nan,       nan,       nan,\n",
       "              nan,       nan,       nan,       nan,       nan,       nan,\n",
       "              nan,       nan,       nan,       nan,       nan,       nan,\n",
       "              nan,       nan,       nan,       nan,       nan,       nan,\n",
       "              nan,       nan,       nan,       nan,       nan,       nan,\n",
       "              nan,       nan,       nan,       nan,       nan,       nan,\n",
       "              nan,       nan,       nan,       nan,       nan,       nan,\n",
       "              nan,       nan,       nan,       nan,       nan,       nan,\n",
       "              nan]], dtype=float32)</pre></li><li class='xr-var-item'><div class='xr-var-name'><span>PRES_QC</span></div><div class='xr-var-dims'>(N_PROF, N_LEVELS)</div><div class='xr-var-dtype'>object</div><div class='xr-var-preview xr-preview'>...</div><input id='attrs-57050e63-f750-41b2-b06e-296895b8d474' class='xr-var-attrs-in' type='checkbox' ><label for='attrs-57050e63-f750-41b2-b06e-296895b8d474' title='Show/Hide attributes'><svg class='icon xr-icon-file-text2'><use xlink:href='#icon-file-text2'></use></svg></label><input id='data-c3e194da-f407-4187-9b5b-32023bfb9e53' class='xr-var-data-in' type='checkbox'><label for='data-c3e194da-f407-4187-9b5b-32023bfb9e53' title='Show/Hide data repr'><svg class='icon xr-icon-database'><use xlink:href='#icon-database'></use></svg></label><div class='xr-var-attrs'><dl class='xr-attrs'><dt><span>long_name :</span></dt><dd>quality flag</dd><dt><span>conventions :</span></dt><dd>Argo reference table 2</dd></dl></div><pre class='xr-var-data'>array([[b&#x27;1&#x27;, b&#x27;1&#x27;, b&#x27;1&#x27;, b&#x27;1&#x27;, b&#x27;1&#x27;, b&#x27;1&#x27;, b&#x27;1&#x27;, b&#x27;1&#x27;, b&#x27;1&#x27;, b&#x27;1&#x27;, b&#x27;1&#x27;,\n",
       "        b&#x27;1&#x27;, b&#x27;1&#x27;, b&#x27;1&#x27;, b&#x27;1&#x27;, b&#x27;1&#x27;, b&#x27;1&#x27;, b&#x27;1&#x27;, b&#x27;1&#x27;, b&#x27;1&#x27;, b&#x27;1&#x27;, b&#x27;1&#x27;,\n",
       "        b&#x27;1&#x27;, b&#x27;1&#x27;, b&#x27;1&#x27;, b&#x27;1&#x27;, b&#x27;1&#x27;, b&#x27;1&#x27;, b&#x27;1&#x27;, b&#x27;1&#x27;, b&#x27;1&#x27;, b&#x27;1&#x27;, b&#x27;1&#x27;,\n",
       "        b&#x27;1&#x27;, b&#x27;1&#x27;, b&#x27;1&#x27;, b&#x27;1&#x27;, b&#x27;1&#x27;, b&#x27;1&#x27;, b&#x27;1&#x27;, b&#x27;1&#x27;, b&#x27;1&#x27;, b&#x27;1&#x27;, b&#x27;1&#x27;,\n",
       "        b&#x27;1&#x27;, b&#x27;1&#x27;, b&#x27;1&#x27;, b&#x27;1&#x27;, b&#x27;1&#x27;, b&#x27;1&#x27;, b&#x27;1&#x27;, b&#x27;1&#x27;, b&#x27;1&#x27;, b&#x27;1&#x27;, b&#x27;1&#x27;,\n",
       "        b&#x27;1&#x27;, b&#x27;1&#x27;, b&#x27;1&#x27;, b&#x27;1&#x27;, b&#x27;1&#x27;, b&#x27;1&#x27;, b&#x27;1&#x27;, b&#x27;1&#x27;, b&#x27;1&#x27;, b&#x27;1&#x27;, b&#x27;1&#x27;,\n",
       "        b&#x27;1&#x27;, b&#x27;1&#x27;, b&#x27;1&#x27;, b&#x27;1&#x27;, b&#x27;1&#x27;, b&#x27;1&#x27;, b&#x27;1&#x27;, b&#x27;1&#x27;, b&#x27;1&#x27;, b&#x27;1&#x27;, b&#x27;1&#x27;,\n",
       "        b&#x27;1&#x27;, b&#x27;1&#x27;, b&#x27;1&#x27;, b&#x27;1&#x27;, b&#x27;1&#x27;, b&#x27;1&#x27;, b&#x27;1&#x27;, b&#x27;1&#x27;, b&#x27;1&#x27;, b&#x27;1&#x27;, b&#x27;1&#x27;,\n",
       "        b&#x27;1&#x27;, b&#x27;1&#x27;, b&#x27;1&#x27;, b&#x27;1&#x27;, b&#x27;1&#x27;, b&#x27;1&#x27;, b&#x27;1&#x27;, b&#x27;1&#x27;, b&#x27;1&#x27;],\n",
       "       [b&#x27;1&#x27;, b&#x27;1&#x27;, b&#x27;1&#x27;, b&#x27;1&#x27;, b&#x27;1&#x27;, b&#x27;1&#x27;, nan, nan, nan, nan, nan, nan, nan,\n",
       "        nan, nan, nan, nan, nan, nan, nan, nan, nan, nan, nan, nan, nan, nan,\n",
       "        nan, nan, nan, nan, nan, nan, nan, nan, nan, nan, nan, nan, nan, nan,\n",
       "        nan, nan, nan, nan, nan, nan, nan, nan, nan, nan, nan, nan, nan, nan,\n",
       "        nan, nan, nan, nan, nan, nan, nan, nan, nan, nan, nan, nan, nan, nan,\n",
       "        nan, nan, nan, nan, nan, nan, nan, nan, nan, nan, nan, nan, nan, nan,\n",
       "        nan, nan, nan, nan, nan, nan, nan, nan, nan, nan, nan, nan, nan, nan]],\n",
       "      dtype=object)</pre></li><li class='xr-var-item'><div class='xr-var-name'><span>PRES_ADJUSTED</span></div><div class='xr-var-dims'>(N_PROF, N_LEVELS)</div><div class='xr-var-dtype'>float32</div><div class='xr-var-preview xr-preview'>...</div><input id='attrs-720171cf-a627-4a98-acfa-3cbd404afb2f' class='xr-var-attrs-in' type='checkbox' ><label for='attrs-720171cf-a627-4a98-acfa-3cbd404afb2f' title='Show/Hide attributes'><svg class='icon xr-icon-file-text2'><use xlink:href='#icon-file-text2'></use></svg></label><input id='data-f8c90df9-8048-42df-8f24-aad147477019' class='xr-var-data-in' type='checkbox'><label for='data-f8c90df9-8048-42df-8f24-aad147477019' title='Show/Hide data repr'><svg class='icon xr-icon-database'><use xlink:href='#icon-database'></use></svg></label><div class='xr-var-attrs'><dl class='xr-attrs'><dt><span>long_name :</span></dt><dd>Sea water pressure, equals 0 at sea-level</dd><dt><span>standard_name :</span></dt><dd>sea_water_pressure</dd><dt><span>units :</span></dt><dd>decibar</dd><dt><span>valid_min :</span></dt><dd>0.0</dd><dt><span>valid_max :</span></dt><dd>12000.0</dd><dt><span>C_format :</span></dt><dd>%7.1f</dd><dt><span>FORTRAN_format :</span></dt><dd>F7.1</dd><dt><span>resolution :</span></dt><dd>1.0</dd><dt><span>axis :</span></dt><dd>Z</dd></dl></div><pre class='xr-var-data'>array([[nan, nan, nan, nan, nan, nan, nan, nan, nan, nan, nan, nan, nan, nan,\n",
       "        nan, nan, nan, nan, nan, nan, nan, nan, nan, nan, nan, nan, nan, nan,\n",
       "        nan, nan, nan, nan, nan, nan, nan, nan, nan, nan, nan, nan, nan, nan,\n",
       "        nan, nan, nan, nan, nan, nan, nan, nan, nan, nan, nan, nan, nan, nan,\n",
       "        nan, nan, nan, nan, nan, nan, nan, nan, nan, nan, nan, nan, nan, nan,\n",
       "        nan, nan, nan, nan, nan, nan, nan, nan, nan, nan, nan, nan, nan, nan,\n",
       "        nan, nan, nan, nan, nan, nan, nan, nan, nan, nan, nan, nan, nan],\n",
       "       [nan, nan, nan, nan, nan, nan, nan, nan, nan, nan, nan, nan, nan, nan,\n",
       "        nan, nan, nan, nan, nan, nan, nan, nan, nan, nan, nan, nan, nan, nan,\n",
       "        nan, nan, nan, nan, nan, nan, nan, nan, nan, nan, nan, nan, nan, nan,\n",
       "        nan, nan, nan, nan, nan, nan, nan, nan, nan, nan, nan, nan, nan, nan,\n",
       "        nan, nan, nan, nan, nan, nan, nan, nan, nan, nan, nan, nan, nan, nan,\n",
       "        nan, nan, nan, nan, nan, nan, nan, nan, nan, nan, nan, nan, nan, nan,\n",
       "        nan, nan, nan, nan, nan, nan, nan, nan, nan, nan, nan, nan, nan]],\n",
       "      dtype=float32)</pre></li><li class='xr-var-item'><div class='xr-var-name'><span>PRES_ADJUSTED_QC</span></div><div class='xr-var-dims'>(N_PROF, N_LEVELS)</div><div class='xr-var-dtype'>object</div><div class='xr-var-preview xr-preview'>...</div><input id='attrs-b29d838c-4c60-41ea-93e7-7de9a64b9fa5' class='xr-var-attrs-in' type='checkbox' ><label for='attrs-b29d838c-4c60-41ea-93e7-7de9a64b9fa5' title='Show/Hide attributes'><svg class='icon xr-icon-file-text2'><use xlink:href='#icon-file-text2'></use></svg></label><input id='data-bcc53445-cfe0-41c0-b71a-1bc34cc4c9a0' class='xr-var-data-in' type='checkbox'><label for='data-bcc53445-cfe0-41c0-b71a-1bc34cc4c9a0' title='Show/Hide data repr'><svg class='icon xr-icon-database'><use xlink:href='#icon-database'></use></svg></label><div class='xr-var-attrs'><dl class='xr-attrs'><dt><span>long_name :</span></dt><dd>quality flag</dd><dt><span>conventions :</span></dt><dd>Argo reference table 2</dd></dl></div><pre class='xr-var-data'>array([[nan, nan, nan, nan, nan, nan, nan, nan, nan, nan, nan, nan, nan, nan,\n",
       "        nan, nan, nan, nan, nan, nan, nan, nan, nan, nan, nan, nan, nan, nan,\n",
       "        nan, nan, nan, nan, nan, nan, nan, nan, nan, nan, nan, nan, nan, nan,\n",
       "        nan, nan, nan, nan, nan, nan, nan, nan, nan, nan, nan, nan, nan, nan,\n",
       "        nan, nan, nan, nan, nan, nan, nan, nan, nan, nan, nan, nan, nan, nan,\n",
       "        nan, nan, nan, nan, nan, nan, nan, nan, nan, nan, nan, nan, nan, nan,\n",
       "        nan, nan, nan, nan, nan, nan, nan, nan, nan, nan, nan, nan, nan],\n",
       "       [nan, nan, nan, nan, nan, nan, nan, nan, nan, nan, nan, nan, nan, nan,\n",
       "        nan, nan, nan, nan, nan, nan, nan, nan, nan, nan, nan, nan, nan, nan,\n",
       "        nan, nan, nan, nan, nan, nan, nan, nan, nan, nan, nan, nan, nan, nan,\n",
       "        nan, nan, nan, nan, nan, nan, nan, nan, nan, nan, nan, nan, nan, nan,\n",
       "        nan, nan, nan, nan, nan, nan, nan, nan, nan, nan, nan, nan, nan, nan,\n",
       "        nan, nan, nan, nan, nan, nan, nan, nan, nan, nan, nan, nan, nan, nan,\n",
       "        nan, nan, nan, nan, nan, nan, nan, nan, nan, nan, nan, nan, nan]],\n",
       "      dtype=object)</pre></li><li class='xr-var-item'><div class='xr-var-name'><span>PRES_ADJUSTED_ERROR</span></div><div class='xr-var-dims'>(N_PROF, N_LEVELS)</div><div class='xr-var-dtype'>float32</div><div class='xr-var-preview xr-preview'>...</div><input id='attrs-2e86424c-1285-49fc-8520-5549c91a613c' class='xr-var-attrs-in' type='checkbox' ><label for='attrs-2e86424c-1285-49fc-8520-5549c91a613c' title='Show/Hide attributes'><svg class='icon xr-icon-file-text2'><use xlink:href='#icon-file-text2'></use></svg></label><input id='data-85b2c752-cde3-45c3-aa91-7622b22eb543' class='xr-var-data-in' type='checkbox'><label for='data-85b2c752-cde3-45c3-aa91-7622b22eb543' title='Show/Hide data repr'><svg class='icon xr-icon-database'><use xlink:href='#icon-database'></use></svg></label><div class='xr-var-attrs'><dl class='xr-attrs'><dt><span>long_name :</span></dt><dd>Contains the error on the adjusted values as determined by the delayed mode QC process</dd><dt><span>units :</span></dt><dd>decibar</dd><dt><span>C_format :</span></dt><dd>%7.1f</dd><dt><span>FORTRAN_format :</span></dt><dd>F7.1</dd><dt><span>resolution :</span></dt><dd>1.0</dd></dl></div><pre class='xr-var-data'>array([[nan, nan, nan, nan, nan, nan, nan, nan, nan, nan, nan, nan, nan, nan,\n",
       "        nan, nan, nan, nan, nan, nan, nan, nan, nan, nan, nan, nan, nan, nan,\n",
       "        nan, nan, nan, nan, nan, nan, nan, nan, nan, nan, nan, nan, nan, nan,\n",
       "        nan, nan, nan, nan, nan, nan, nan, nan, nan, nan, nan, nan, nan, nan,\n",
       "        nan, nan, nan, nan, nan, nan, nan, nan, nan, nan, nan, nan, nan, nan,\n",
       "        nan, nan, nan, nan, nan, nan, nan, nan, nan, nan, nan, nan, nan, nan,\n",
       "        nan, nan, nan, nan, nan, nan, nan, nan, nan, nan, nan, nan, nan],\n",
       "       [nan, nan, nan, nan, nan, nan, nan, nan, nan, nan, nan, nan, nan, nan,\n",
       "        nan, nan, nan, nan, nan, nan, nan, nan, nan, nan, nan, nan, nan, nan,\n",
       "        nan, nan, nan, nan, nan, nan, nan, nan, nan, nan, nan, nan, nan, nan,\n",
       "        nan, nan, nan, nan, nan, nan, nan, nan, nan, nan, nan, nan, nan, nan,\n",
       "        nan, nan, nan, nan, nan, nan, nan, nan, nan, nan, nan, nan, nan, nan,\n",
       "        nan, nan, nan, nan, nan, nan, nan, nan, nan, nan, nan, nan, nan, nan,\n",
       "        nan, nan, nan, nan, nan, nan, nan, nan, nan, nan, nan, nan, nan]],\n",
       "      dtype=float32)</pre></li><li class='xr-var-item'><div class='xr-var-name'><span>TEMP</span></div><div class='xr-var-dims'>(N_PROF, N_LEVELS)</div><div class='xr-var-dtype'>float32</div><div class='xr-var-preview xr-preview'>...</div><input id='attrs-fb635433-db9c-4f68-a26a-36e1ee157ab4' class='xr-var-attrs-in' type='checkbox' ><label for='attrs-fb635433-db9c-4f68-a26a-36e1ee157ab4' title='Show/Hide attributes'><svg class='icon xr-icon-file-text2'><use xlink:href='#icon-file-text2'></use></svg></label><input id='data-59e99b22-d70e-4816-b6a6-8b47522115f0' class='xr-var-data-in' type='checkbox'><label for='data-59e99b22-d70e-4816-b6a6-8b47522115f0' title='Show/Hide data repr'><svg class='icon xr-icon-database'><use xlink:href='#icon-database'></use></svg></label><div class='xr-var-attrs'><dl class='xr-attrs'><dt><span>long_name :</span></dt><dd>Sea temperature in-situ ITS-90 scale</dd><dt><span>standard_name :</span></dt><dd>sea_water_temperature</dd><dt><span>units :</span></dt><dd>degree_Celsius</dd><dt><span>valid_min :</span></dt><dd>-2.5</dd><dt><span>valid_max :</span></dt><dd>40.0</dd><dt><span>C_format :</span></dt><dd>%9.3f</dd><dt><span>FORTRAN_format :</span></dt><dd>F9.3</dd><dt><span>resolution :</span></dt><dd>0.001</dd></dl></div><pre class='xr-var-data'>array([[23.412, 23.412, 23.414, 23.412, 23.413, 23.41 , 23.398, 23.362,\n",
       "        21.52 , 19.551, 18.408, 17.947, 17.689, 17.378, 17.074, 17.   ,\n",
       "        16.869, 16.576, 16.334, 16.113, 15.882, 15.702, 15.486, 15.234,\n",
       "        14.892, 14.422, 14.024, 13.581, 13.244, 12.933, 12.75 , 12.526,\n",
       "        12.222, 11.994, 11.726, 11.396, 11.176, 10.982, 10.741, 10.528,\n",
       "        10.293, 10.098,  9.868,  9.731,  9.553,  9.394,  9.214,  9.099,\n",
       "         8.965,  8.795,  8.627,  8.502,  8.388,  8.374,  8.374,  8.366,\n",
       "         8.329,  8.241,  8.128,  8.089,  8.106,  8.091,  8.171,  8.175,\n",
       "         8.029,  7.794,  7.568,  7.41 ,  7.244,  7.081,  6.958,  6.882,\n",
       "         6.69 ,  6.64 ,  6.538,  6.452,  6.337,  6.256,  6.131,  6.011,\n",
       "         5.953,  5.79 ,  5.677,  5.609,  5.529,  5.441,  5.363,  5.33 ,\n",
       "         5.218,  5.133,  5.047,  4.972,  4.893,  4.804,  4.68 ,  4.559,\n",
       "         4.474],\n",
       "       [23.403, 23.412, 23.412, 23.412, 23.412, 23.414,    nan,    nan,\n",
       "           nan,    nan,    nan,    nan,    nan,    nan,    nan,    nan,\n",
       "           nan,    nan,    nan,    nan,    nan,    nan,    nan,    nan,\n",
       "           nan,    nan,    nan,    nan,    nan,    nan,    nan,    nan,\n",
       "           nan,    nan,    nan,    nan,    nan,    nan,    nan,    nan,\n",
       "           nan,    nan,    nan,    nan,    nan,    nan,    nan,    nan,\n",
       "           nan,    nan,    nan,    nan,    nan,    nan,    nan,    nan,\n",
       "           nan,    nan,    nan,    nan,    nan,    nan,    nan,    nan,\n",
       "           nan,    nan,    nan,    nan,    nan,    nan,    nan,    nan,\n",
       "           nan,    nan,    nan,    nan,    nan,    nan,    nan,    nan,\n",
       "           nan,    nan,    nan,    nan,    nan,    nan,    nan,    nan,\n",
       "           nan,    nan,    nan,    nan,    nan,    nan,    nan,    nan,\n",
       "           nan]], dtype=float32)</pre></li><li class='xr-var-item'><div class='xr-var-name'><span>TEMP_QC</span></div><div class='xr-var-dims'>(N_PROF, N_LEVELS)</div><div class='xr-var-dtype'>object</div><div class='xr-var-preview xr-preview'>...</div><input id='attrs-8eb30eb6-9dad-4f7f-b33e-db1bd1d37aae' class='xr-var-attrs-in' type='checkbox' ><label for='attrs-8eb30eb6-9dad-4f7f-b33e-db1bd1d37aae' title='Show/Hide attributes'><svg class='icon xr-icon-file-text2'><use xlink:href='#icon-file-text2'></use></svg></label><input id='data-a5f6a25a-bc5e-43c5-b358-1a4c50ab3da1' class='xr-var-data-in' type='checkbox'><label for='data-a5f6a25a-bc5e-43c5-b358-1a4c50ab3da1' title='Show/Hide data repr'><svg class='icon xr-icon-database'><use xlink:href='#icon-database'></use></svg></label><div class='xr-var-attrs'><dl class='xr-attrs'><dt><span>long_name :</span></dt><dd>quality flag</dd><dt><span>conventions :</span></dt><dd>Argo reference table 2</dd></dl></div><pre class='xr-var-data'>array([[b&#x27;1&#x27;, b&#x27;1&#x27;, b&#x27;1&#x27;, b&#x27;1&#x27;, b&#x27;1&#x27;, b&#x27;1&#x27;, b&#x27;1&#x27;, b&#x27;1&#x27;, b&#x27;1&#x27;, b&#x27;1&#x27;, b&#x27;1&#x27;,\n",
       "        b&#x27;1&#x27;, b&#x27;1&#x27;, b&#x27;1&#x27;, b&#x27;1&#x27;, b&#x27;1&#x27;, b&#x27;1&#x27;, b&#x27;1&#x27;, b&#x27;1&#x27;, b&#x27;1&#x27;, b&#x27;1&#x27;, b&#x27;1&#x27;,\n",
       "        b&#x27;1&#x27;, b&#x27;1&#x27;, b&#x27;1&#x27;, b&#x27;1&#x27;, b&#x27;1&#x27;, b&#x27;1&#x27;, b&#x27;1&#x27;, b&#x27;1&#x27;, b&#x27;1&#x27;, b&#x27;1&#x27;, b&#x27;1&#x27;,\n",
       "        b&#x27;1&#x27;, b&#x27;1&#x27;, b&#x27;1&#x27;, b&#x27;1&#x27;, b&#x27;1&#x27;, b&#x27;1&#x27;, b&#x27;1&#x27;, b&#x27;1&#x27;, b&#x27;1&#x27;, b&#x27;1&#x27;, b&#x27;1&#x27;,\n",
       "        b&#x27;1&#x27;, b&#x27;1&#x27;, b&#x27;1&#x27;, b&#x27;1&#x27;, b&#x27;1&#x27;, b&#x27;1&#x27;, b&#x27;1&#x27;, b&#x27;1&#x27;, b&#x27;1&#x27;, b&#x27;1&#x27;, b&#x27;1&#x27;,\n",
       "        b&#x27;1&#x27;, b&#x27;1&#x27;, b&#x27;1&#x27;, b&#x27;1&#x27;, b&#x27;1&#x27;, b&#x27;1&#x27;, b&#x27;1&#x27;, b&#x27;1&#x27;, b&#x27;1&#x27;, b&#x27;1&#x27;, b&#x27;1&#x27;,\n",
       "        b&#x27;1&#x27;, b&#x27;1&#x27;, b&#x27;1&#x27;, b&#x27;1&#x27;, b&#x27;1&#x27;, b&#x27;1&#x27;, b&#x27;1&#x27;, b&#x27;1&#x27;, b&#x27;1&#x27;, b&#x27;1&#x27;, b&#x27;1&#x27;,\n",
       "        b&#x27;1&#x27;, b&#x27;1&#x27;, b&#x27;1&#x27;, b&#x27;1&#x27;, b&#x27;1&#x27;, b&#x27;1&#x27;, b&#x27;1&#x27;, b&#x27;1&#x27;, b&#x27;1&#x27;, b&#x27;1&#x27;, b&#x27;1&#x27;,\n",
       "        b&#x27;1&#x27;, b&#x27;1&#x27;, b&#x27;1&#x27;, b&#x27;1&#x27;, b&#x27;1&#x27;, b&#x27;1&#x27;, b&#x27;1&#x27;, b&#x27;1&#x27;, b&#x27;1&#x27;],\n",
       "       [b&#x27;3&#x27;, b&#x27;3&#x27;, b&#x27;1&#x27;, b&#x27;1&#x27;, b&#x27;1&#x27;, b&#x27;1&#x27;, nan, nan, nan, nan, nan, nan, nan,\n",
       "        nan, nan, nan, nan, nan, nan, nan, nan, nan, nan, nan, nan, nan, nan,\n",
       "        nan, nan, nan, nan, nan, nan, nan, nan, nan, nan, nan, nan, nan, nan,\n",
       "        nan, nan, nan, nan, nan, nan, nan, nan, nan, nan, nan, nan, nan, nan,\n",
       "        nan, nan, nan, nan, nan, nan, nan, nan, nan, nan, nan, nan, nan, nan,\n",
       "        nan, nan, nan, nan, nan, nan, nan, nan, nan, nan, nan, nan, nan, nan,\n",
       "        nan, nan, nan, nan, nan, nan, nan, nan, nan, nan, nan, nan, nan, nan]],\n",
       "      dtype=object)</pre></li><li class='xr-var-item'><div class='xr-var-name'><span>TEMP_ADJUSTED</span></div><div class='xr-var-dims'>(N_PROF, N_LEVELS)</div><div class='xr-var-dtype'>float32</div><div class='xr-var-preview xr-preview'>...</div><input id='attrs-ed933027-058e-4e5b-bb73-c926dc4748f3' class='xr-var-attrs-in' type='checkbox' ><label for='attrs-ed933027-058e-4e5b-bb73-c926dc4748f3' title='Show/Hide attributes'><svg class='icon xr-icon-file-text2'><use xlink:href='#icon-file-text2'></use></svg></label><input id='data-17d22847-646b-4e3c-9854-b7710e07c850' class='xr-var-data-in' type='checkbox'><label for='data-17d22847-646b-4e3c-9854-b7710e07c850' title='Show/Hide data repr'><svg class='icon xr-icon-database'><use xlink:href='#icon-database'></use></svg></label><div class='xr-var-attrs'><dl class='xr-attrs'><dt><span>long_name :</span></dt><dd>Sea temperature in-situ ITS-90 scale</dd><dt><span>standard_name :</span></dt><dd>sea_water_temperature</dd><dt><span>units :</span></dt><dd>degree_Celsius</dd><dt><span>valid_min :</span></dt><dd>-2.5</dd><dt><span>valid_max :</span></dt><dd>40.0</dd><dt><span>C_format :</span></dt><dd>%9.3f</dd><dt><span>FORTRAN_format :</span></dt><dd>F9.3</dd><dt><span>resolution :</span></dt><dd>0.001</dd></dl></div><pre class='xr-var-data'>array([[nan, nan, nan, nan, nan, nan, nan, nan, nan, nan, nan, nan, nan, nan,\n",
       "        nan, nan, nan, nan, nan, nan, nan, nan, nan, nan, nan, nan, nan, nan,\n",
       "        nan, nan, nan, nan, nan, nan, nan, nan, nan, nan, nan, nan, nan, nan,\n",
       "        nan, nan, nan, nan, nan, nan, nan, nan, nan, nan, nan, nan, nan, nan,\n",
       "        nan, nan, nan, nan, nan, nan, nan, nan, nan, nan, nan, nan, nan, nan,\n",
       "        nan, nan, nan, nan, nan, nan, nan, nan, nan, nan, nan, nan, nan, nan,\n",
       "        nan, nan, nan, nan, nan, nan, nan, nan, nan, nan, nan, nan, nan],\n",
       "       [nan, nan, nan, nan, nan, nan, nan, nan, nan, nan, nan, nan, nan, nan,\n",
       "        nan, nan, nan, nan, nan, nan, nan, nan, nan, nan, nan, nan, nan, nan,\n",
       "        nan, nan, nan, nan, nan, nan, nan, nan, nan, nan, nan, nan, nan, nan,\n",
       "        nan, nan, nan, nan, nan, nan, nan, nan, nan, nan, nan, nan, nan, nan,\n",
       "        nan, nan, nan, nan, nan, nan, nan, nan, nan, nan, nan, nan, nan, nan,\n",
       "        nan, nan, nan, nan, nan, nan, nan, nan, nan, nan, nan, nan, nan, nan,\n",
       "        nan, nan, nan, nan, nan, nan, nan, nan, nan, nan, nan, nan, nan]],\n",
       "      dtype=float32)</pre></li><li class='xr-var-item'><div class='xr-var-name'><span>TEMP_ADJUSTED_QC</span></div><div class='xr-var-dims'>(N_PROF, N_LEVELS)</div><div class='xr-var-dtype'>object</div><div class='xr-var-preview xr-preview'>...</div><input id='attrs-0b70ae7c-4840-4b39-b36c-40c776361950' class='xr-var-attrs-in' type='checkbox' ><label for='attrs-0b70ae7c-4840-4b39-b36c-40c776361950' title='Show/Hide attributes'><svg class='icon xr-icon-file-text2'><use xlink:href='#icon-file-text2'></use></svg></label><input id='data-130cca08-9eca-45d6-9f0d-b67ec2f757f7' class='xr-var-data-in' type='checkbox'><label for='data-130cca08-9eca-45d6-9f0d-b67ec2f757f7' title='Show/Hide data repr'><svg class='icon xr-icon-database'><use xlink:href='#icon-database'></use></svg></label><div class='xr-var-attrs'><dl class='xr-attrs'><dt><span>long_name :</span></dt><dd>quality flag</dd><dt><span>conventions :</span></dt><dd>Argo reference table 2</dd></dl></div><pre class='xr-var-data'>array([[nan, nan, nan, nan, nan, nan, nan, nan, nan, nan, nan, nan, nan, nan,\n",
       "        nan, nan, nan, nan, nan, nan, nan, nan, nan, nan, nan, nan, nan, nan,\n",
       "        nan, nan, nan, nan, nan, nan, nan, nan, nan, nan, nan, nan, nan, nan,\n",
       "        nan, nan, nan, nan, nan, nan, nan, nan, nan, nan, nan, nan, nan, nan,\n",
       "        nan, nan, nan, nan, nan, nan, nan, nan, nan, nan, nan, nan, nan, nan,\n",
       "        nan, nan, nan, nan, nan, nan, nan, nan, nan, nan, nan, nan, nan, nan,\n",
       "        nan, nan, nan, nan, nan, nan, nan, nan, nan, nan, nan, nan, nan],\n",
       "       [nan, nan, nan, nan, nan, nan, nan, nan, nan, nan, nan, nan, nan, nan,\n",
       "        nan, nan, nan, nan, nan, nan, nan, nan, nan, nan, nan, nan, nan, nan,\n",
       "        nan, nan, nan, nan, nan, nan, nan, nan, nan, nan, nan, nan, nan, nan,\n",
       "        nan, nan, nan, nan, nan, nan, nan, nan, nan, nan, nan, nan, nan, nan,\n",
       "        nan, nan, nan, nan, nan, nan, nan, nan, nan, nan, nan, nan, nan, nan,\n",
       "        nan, nan, nan, nan, nan, nan, nan, nan, nan, nan, nan, nan, nan, nan,\n",
       "        nan, nan, nan, nan, nan, nan, nan, nan, nan, nan, nan, nan, nan]],\n",
       "      dtype=object)</pre></li><li class='xr-var-item'><div class='xr-var-name'><span>TEMP_ADJUSTED_ERROR</span></div><div class='xr-var-dims'>(N_PROF, N_LEVELS)</div><div class='xr-var-dtype'>float32</div><div class='xr-var-preview xr-preview'>...</div><input id='attrs-8d389428-fbcf-415f-ba7d-0bc33e1af25f' class='xr-var-attrs-in' type='checkbox' ><label for='attrs-8d389428-fbcf-415f-ba7d-0bc33e1af25f' title='Show/Hide attributes'><svg class='icon xr-icon-file-text2'><use xlink:href='#icon-file-text2'></use></svg></label><input id='data-bc50f406-9340-403c-b6b5-8729dcb10da9' class='xr-var-data-in' type='checkbox'><label for='data-bc50f406-9340-403c-b6b5-8729dcb10da9' title='Show/Hide data repr'><svg class='icon xr-icon-database'><use xlink:href='#icon-database'></use></svg></label><div class='xr-var-attrs'><dl class='xr-attrs'><dt><span>long_name :</span></dt><dd>Contains the error on the adjusted values as determined by the delayed mode QC process</dd><dt><span>units :</span></dt><dd>degree_Celsius</dd><dt><span>C_format :</span></dt><dd>%9.3f</dd><dt><span>FORTRAN_format :</span></dt><dd>F9.3</dd><dt><span>resolution :</span></dt><dd>0.001</dd></dl></div><pre class='xr-var-data'>array([[nan, nan, nan, nan, nan, nan, nan, nan, nan, nan, nan, nan, nan, nan,\n",
       "        nan, nan, nan, nan, nan, nan, nan, nan, nan, nan, nan, nan, nan, nan,\n",
       "        nan, nan, nan, nan, nan, nan, nan, nan, nan, nan, nan, nan, nan, nan,\n",
       "        nan, nan, nan, nan, nan, nan, nan, nan, nan, nan, nan, nan, nan, nan,\n",
       "        nan, nan, nan, nan, nan, nan, nan, nan, nan, nan, nan, nan, nan, nan,\n",
       "        nan, nan, nan, nan, nan, nan, nan, nan, nan, nan, nan, nan, nan, nan,\n",
       "        nan, nan, nan, nan, nan, nan, nan, nan, nan, nan, nan, nan, nan],\n",
       "       [nan, nan, nan, nan, nan, nan, nan, nan, nan, nan, nan, nan, nan, nan,\n",
       "        nan, nan, nan, nan, nan, nan, nan, nan, nan, nan, nan, nan, nan, nan,\n",
       "        nan, nan, nan, nan, nan, nan, nan, nan, nan, nan, nan, nan, nan, nan,\n",
       "        nan, nan, nan, nan, nan, nan, nan, nan, nan, nan, nan, nan, nan, nan,\n",
       "        nan, nan, nan, nan, nan, nan, nan, nan, nan, nan, nan, nan, nan, nan,\n",
       "        nan, nan, nan, nan, nan, nan, nan, nan, nan, nan, nan, nan, nan, nan,\n",
       "        nan, nan, nan, nan, nan, nan, nan, nan, nan, nan, nan, nan, nan]],\n",
       "      dtype=float32)</pre></li><li class='xr-var-item'><div class='xr-var-name'><span>PSAL</span></div><div class='xr-var-dims'>(N_PROF, N_LEVELS)</div><div class='xr-var-dtype'>float32</div><div class='xr-var-preview xr-preview'>...</div><input id='attrs-f0e209b9-ba7d-4532-9af8-ba08c58dca35' class='xr-var-attrs-in' type='checkbox' ><label for='attrs-f0e209b9-ba7d-4532-9af8-ba08c58dca35' title='Show/Hide attributes'><svg class='icon xr-icon-file-text2'><use xlink:href='#icon-file-text2'></use></svg></label><input id='data-a2c6e545-3b25-440e-88bd-ffc5c4a4ba41' class='xr-var-data-in' type='checkbox'><label for='data-a2c6e545-3b25-440e-88bd-ffc5c4a4ba41' title='Show/Hide data repr'><svg class='icon xr-icon-database'><use xlink:href='#icon-database'></use></svg></label><div class='xr-var-attrs'><dl class='xr-attrs'><dt><span>long_name :</span></dt><dd>Practical salinity</dd><dt><span>standard_name :</span></dt><dd>sea_water_salinity</dd><dt><span>units :</span></dt><dd>psu</dd><dt><span>valid_min :</span></dt><dd>2.0</dd><dt><span>valid_max :</span></dt><dd>41.0</dd><dt><span>C_format :</span></dt><dd>%9.3f</dd><dt><span>FORTRAN_format :</span></dt><dd>F9.3</dd><dt><span>resolution :</span></dt><dd>0.001</dd></dl></div><pre class='xr-var-data'>array([[36.697, 36.697, 36.697, 36.698, 36.698, 36.699, 36.706, 36.702,\n",
       "        36.558, 36.471, 36.437, 36.463, 36.493, 36.46 , 36.422, 36.414,\n",
       "        36.398, 36.343, 36.303, 36.272, 36.235, 36.206, 36.172, 36.128,\n",
       "        36.067, 35.986, 35.924, 35.859, 35.811, 35.771, 35.748, 35.722,\n",
       "        35.688, 35.662, 35.636, 35.6  , 35.577, 35.556, 35.532, 35.51 ,\n",
       "        35.486, 35.465, 35.441, 35.429, 35.413, 35.402, 35.391, 35.386,\n",
       "        35.378, 35.361, 35.348, 35.346, 35.355, 35.377, 35.398, 35.414,\n",
       "        35.43 , 35.436, 35.442, 35.454, 35.47 , 35.495, 35.53 , 35.544,\n",
       "        35.533, 35.501, 35.476, 35.455, 35.435, 35.418, 35.411, 35.408,\n",
       "        35.387, 35.386, 35.379, 35.375, 35.363, 35.355, 35.341, 35.329,\n",
       "        35.324, 35.304, 35.29 , 35.283, 35.273, 35.262, 35.252, 35.248,\n",
       "        35.235, 35.225, 35.215, 35.206, 35.197, 35.186, 35.169, 35.153,\n",
       "        35.142],\n",
       "       [36.701, 36.694, 36.695, 36.695, 36.697, 36.696,    nan,    nan,\n",
       "           nan,    nan,    nan,    nan,    nan,    nan,    nan,    nan,\n",
       "           nan,    nan,    nan,    nan,    nan,    nan,    nan,    nan,\n",
       "           nan,    nan,    nan,    nan,    nan,    nan,    nan,    nan,\n",
       "           nan,    nan,    nan,    nan,    nan,    nan,    nan,    nan,\n",
       "           nan,    nan,    nan,    nan,    nan,    nan,    nan,    nan,\n",
       "           nan,    nan,    nan,    nan,    nan,    nan,    nan,    nan,\n",
       "           nan,    nan,    nan,    nan,    nan,    nan,    nan,    nan,\n",
       "           nan,    nan,    nan,    nan,    nan,    nan,    nan,    nan,\n",
       "           nan,    nan,    nan,    nan,    nan,    nan,    nan,    nan,\n",
       "           nan,    nan,    nan,    nan,    nan,    nan,    nan,    nan,\n",
       "           nan,    nan,    nan,    nan,    nan,    nan,    nan,    nan,\n",
       "           nan]], dtype=float32)</pre></li><li class='xr-var-item'><div class='xr-var-name'><span>PSAL_QC</span></div><div class='xr-var-dims'>(N_PROF, N_LEVELS)</div><div class='xr-var-dtype'>object</div><div class='xr-var-preview xr-preview'>...</div><input id='attrs-514b3047-5b73-431e-84c2-ec8eba698328' class='xr-var-attrs-in' type='checkbox' ><label for='attrs-514b3047-5b73-431e-84c2-ec8eba698328' title='Show/Hide attributes'><svg class='icon xr-icon-file-text2'><use xlink:href='#icon-file-text2'></use></svg></label><input id='data-ecef0ac9-3f6f-41f1-a131-b4197edfee17' class='xr-var-data-in' type='checkbox'><label for='data-ecef0ac9-3f6f-41f1-a131-b4197edfee17' title='Show/Hide data repr'><svg class='icon xr-icon-database'><use xlink:href='#icon-database'></use></svg></label><div class='xr-var-attrs'><dl class='xr-attrs'><dt><span>long_name :</span></dt><dd>quality flag</dd><dt><span>conventions :</span></dt><dd>Argo reference table 2</dd></dl></div><pre class='xr-var-data'>array([[b&#x27;1&#x27;, b&#x27;1&#x27;, b&#x27;1&#x27;, b&#x27;1&#x27;, b&#x27;1&#x27;, b&#x27;1&#x27;, b&#x27;1&#x27;, b&#x27;1&#x27;, b&#x27;1&#x27;, b&#x27;1&#x27;, b&#x27;1&#x27;,\n",
       "        b&#x27;1&#x27;, b&#x27;1&#x27;, b&#x27;1&#x27;, b&#x27;1&#x27;, b&#x27;1&#x27;, b&#x27;1&#x27;, b&#x27;1&#x27;, b&#x27;1&#x27;, b&#x27;1&#x27;, b&#x27;1&#x27;, b&#x27;1&#x27;,\n",
       "        b&#x27;1&#x27;, b&#x27;1&#x27;, b&#x27;1&#x27;, b&#x27;1&#x27;, b&#x27;1&#x27;, b&#x27;1&#x27;, b&#x27;1&#x27;, b&#x27;1&#x27;, b&#x27;1&#x27;, b&#x27;1&#x27;, b&#x27;1&#x27;,\n",
       "        b&#x27;1&#x27;, b&#x27;1&#x27;, b&#x27;1&#x27;, b&#x27;1&#x27;, b&#x27;1&#x27;, b&#x27;1&#x27;, b&#x27;1&#x27;, b&#x27;1&#x27;, b&#x27;1&#x27;, b&#x27;1&#x27;, b&#x27;1&#x27;,\n",
       "        b&#x27;1&#x27;, b&#x27;1&#x27;, b&#x27;1&#x27;, b&#x27;1&#x27;, b&#x27;1&#x27;, b&#x27;1&#x27;, b&#x27;1&#x27;, b&#x27;1&#x27;, b&#x27;1&#x27;, b&#x27;1&#x27;, b&#x27;1&#x27;,\n",
       "        b&#x27;1&#x27;, b&#x27;1&#x27;, b&#x27;1&#x27;, b&#x27;1&#x27;, b&#x27;1&#x27;, b&#x27;1&#x27;, b&#x27;1&#x27;, b&#x27;1&#x27;, b&#x27;1&#x27;, b&#x27;1&#x27;, b&#x27;1&#x27;,\n",
       "        b&#x27;1&#x27;, b&#x27;1&#x27;, b&#x27;1&#x27;, b&#x27;1&#x27;, b&#x27;1&#x27;, b&#x27;1&#x27;, b&#x27;1&#x27;, b&#x27;1&#x27;, b&#x27;1&#x27;, b&#x27;1&#x27;, b&#x27;1&#x27;,\n",
       "        b&#x27;1&#x27;, b&#x27;1&#x27;, b&#x27;1&#x27;, b&#x27;1&#x27;, b&#x27;1&#x27;, b&#x27;1&#x27;, b&#x27;1&#x27;, b&#x27;1&#x27;, b&#x27;1&#x27;, b&#x27;1&#x27;, b&#x27;1&#x27;,\n",
       "        b&#x27;1&#x27;, b&#x27;1&#x27;, b&#x27;1&#x27;, b&#x27;1&#x27;, b&#x27;1&#x27;, b&#x27;1&#x27;, b&#x27;1&#x27;, b&#x27;1&#x27;, b&#x27;1&#x27;],\n",
       "       [b&#x27;3&#x27;, b&#x27;3&#x27;, b&#x27;3&#x27;, b&#x27;3&#x27;, b&#x27;3&#x27;, b&#x27;3&#x27;, nan, nan, nan, nan, nan, nan, nan,\n",
       "        nan, nan, nan, nan, nan, nan, nan, nan, nan, nan, nan, nan, nan, nan,\n",
       "        nan, nan, nan, nan, nan, nan, nan, nan, nan, nan, nan, nan, nan, nan,\n",
       "        nan, nan, nan, nan, nan, nan, nan, nan, nan, nan, nan, nan, nan, nan,\n",
       "        nan, nan, nan, nan, nan, nan, nan, nan, nan, nan, nan, nan, nan, nan,\n",
       "        nan, nan, nan, nan, nan, nan, nan, nan, nan, nan, nan, nan, nan, nan,\n",
       "        nan, nan, nan, nan, nan, nan, nan, nan, nan, nan, nan, nan, nan, nan]],\n",
       "      dtype=object)</pre></li><li class='xr-var-item'><div class='xr-var-name'><span>PSAL_ADJUSTED</span></div><div class='xr-var-dims'>(N_PROF, N_LEVELS)</div><div class='xr-var-dtype'>float32</div><div class='xr-var-preview xr-preview'>...</div><input id='attrs-41a37df3-e922-417d-85be-90cf80b229ff' class='xr-var-attrs-in' type='checkbox' ><label for='attrs-41a37df3-e922-417d-85be-90cf80b229ff' title='Show/Hide attributes'><svg class='icon xr-icon-file-text2'><use xlink:href='#icon-file-text2'></use></svg></label><input id='data-0d3b71a8-8a21-4c65-918f-f99cb7dfac15' class='xr-var-data-in' type='checkbox'><label for='data-0d3b71a8-8a21-4c65-918f-f99cb7dfac15' title='Show/Hide data repr'><svg class='icon xr-icon-database'><use xlink:href='#icon-database'></use></svg></label><div class='xr-var-attrs'><dl class='xr-attrs'><dt><span>long_name :</span></dt><dd>Practical salinity</dd><dt><span>standard_name :</span></dt><dd>sea_water_salinity</dd><dt><span>units :</span></dt><dd>psu</dd><dt><span>valid_min :</span></dt><dd>2.0</dd><dt><span>valid_max :</span></dt><dd>41.0</dd><dt><span>C_format :</span></dt><dd>%9.3f</dd><dt><span>FORTRAN_format :</span></dt><dd>F9.3</dd><dt><span>resolution :</span></dt><dd>0.001</dd></dl></div><pre class='xr-var-data'>array([[nan, nan, nan, nan, nan, nan, nan, nan, nan, nan, nan, nan, nan, nan,\n",
       "        nan, nan, nan, nan, nan, nan, nan, nan, nan, nan, nan, nan, nan, nan,\n",
       "        nan, nan, nan, nan, nan, nan, nan, nan, nan, nan, nan, nan, nan, nan,\n",
       "        nan, nan, nan, nan, nan, nan, nan, nan, nan, nan, nan, nan, nan, nan,\n",
       "        nan, nan, nan, nan, nan, nan, nan, nan, nan, nan, nan, nan, nan, nan,\n",
       "        nan, nan, nan, nan, nan, nan, nan, nan, nan, nan, nan, nan, nan, nan,\n",
       "        nan, nan, nan, nan, nan, nan, nan, nan, nan, nan, nan, nan, nan],\n",
       "       [nan, nan, nan, nan, nan, nan, nan, nan, nan, nan, nan, nan, nan, nan,\n",
       "        nan, nan, nan, nan, nan, nan, nan, nan, nan, nan, nan, nan, nan, nan,\n",
       "        nan, nan, nan, nan, nan, nan, nan, nan, nan, nan, nan, nan, nan, nan,\n",
       "        nan, nan, nan, nan, nan, nan, nan, nan, nan, nan, nan, nan, nan, nan,\n",
       "        nan, nan, nan, nan, nan, nan, nan, nan, nan, nan, nan, nan, nan, nan,\n",
       "        nan, nan, nan, nan, nan, nan, nan, nan, nan, nan, nan, nan, nan, nan,\n",
       "        nan, nan, nan, nan, nan, nan, nan, nan, nan, nan, nan, nan, nan]],\n",
       "      dtype=float32)</pre></li><li class='xr-var-item'><div class='xr-var-name'><span>PSAL_ADJUSTED_QC</span></div><div class='xr-var-dims'>(N_PROF, N_LEVELS)</div><div class='xr-var-dtype'>object</div><div class='xr-var-preview xr-preview'>...</div><input id='attrs-45620f26-9095-4689-94cc-2daddcaadd48' class='xr-var-attrs-in' type='checkbox' ><label for='attrs-45620f26-9095-4689-94cc-2daddcaadd48' title='Show/Hide attributes'><svg class='icon xr-icon-file-text2'><use xlink:href='#icon-file-text2'></use></svg></label><input id='data-3f74a8c7-5be4-4f34-a7dd-980edb7fa31f' class='xr-var-data-in' type='checkbox'><label for='data-3f74a8c7-5be4-4f34-a7dd-980edb7fa31f' title='Show/Hide data repr'><svg class='icon xr-icon-database'><use xlink:href='#icon-database'></use></svg></label><div class='xr-var-attrs'><dl class='xr-attrs'><dt><span>long_name :</span></dt><dd>quality flag</dd><dt><span>conventions :</span></dt><dd>Argo reference table 2</dd></dl></div><pre class='xr-var-data'>array([[nan, nan, nan, nan, nan, nan, nan, nan, nan, nan, nan, nan, nan, nan,\n",
       "        nan, nan, nan, nan, nan, nan, nan, nan, nan, nan, nan, nan, nan, nan,\n",
       "        nan, nan, nan, nan, nan, nan, nan, nan, nan, nan, nan, nan, nan, nan,\n",
       "        nan, nan, nan, nan, nan, nan, nan, nan, nan, nan, nan, nan, nan, nan,\n",
       "        nan, nan, nan, nan, nan, nan, nan, nan, nan, nan, nan, nan, nan, nan,\n",
       "        nan, nan, nan, nan, nan, nan, nan, nan, nan, nan, nan, nan, nan, nan,\n",
       "        nan, nan, nan, nan, nan, nan, nan, nan, nan, nan, nan, nan, nan],\n",
       "       [nan, nan, nan, nan, nan, nan, nan, nan, nan, nan, nan, nan, nan, nan,\n",
       "        nan, nan, nan, nan, nan, nan, nan, nan, nan, nan, nan, nan, nan, nan,\n",
       "        nan, nan, nan, nan, nan, nan, nan, nan, nan, nan, nan, nan, nan, nan,\n",
       "        nan, nan, nan, nan, nan, nan, nan, nan, nan, nan, nan, nan, nan, nan,\n",
       "        nan, nan, nan, nan, nan, nan, nan, nan, nan, nan, nan, nan, nan, nan,\n",
       "        nan, nan, nan, nan, nan, nan, nan, nan, nan, nan, nan, nan, nan, nan,\n",
       "        nan, nan, nan, nan, nan, nan, nan, nan, nan, nan, nan, nan, nan]],\n",
       "      dtype=object)</pre></li><li class='xr-var-item'><div class='xr-var-name'><span>PSAL_ADJUSTED_ERROR</span></div><div class='xr-var-dims'>(N_PROF, N_LEVELS)</div><div class='xr-var-dtype'>float32</div><div class='xr-var-preview xr-preview'>...</div><input id='attrs-db0e1896-54aa-4d2b-84ba-29d25ad484b9' class='xr-var-attrs-in' type='checkbox' ><label for='attrs-db0e1896-54aa-4d2b-84ba-29d25ad484b9' title='Show/Hide attributes'><svg class='icon xr-icon-file-text2'><use xlink:href='#icon-file-text2'></use></svg></label><input id='data-632eb8d8-f291-4965-9010-4fb400f1ea69' class='xr-var-data-in' type='checkbox'><label for='data-632eb8d8-f291-4965-9010-4fb400f1ea69' title='Show/Hide data repr'><svg class='icon xr-icon-database'><use xlink:href='#icon-database'></use></svg></label><div class='xr-var-attrs'><dl class='xr-attrs'><dt><span>long_name :</span></dt><dd>Contains the error on the adjusted values as determined by the delayed mode QC process</dd><dt><span>units :</span></dt><dd>psu</dd><dt><span>C_format :</span></dt><dd>%9.3f</dd><dt><span>FORTRAN_format :</span></dt><dd>F9.3</dd><dt><span>resolution :</span></dt><dd>0.001</dd></dl></div><pre class='xr-var-data'>array([[nan, nan, nan, nan, nan, nan, nan, nan, nan, nan, nan, nan, nan, nan,\n",
       "        nan, nan, nan, nan, nan, nan, nan, nan, nan, nan, nan, nan, nan, nan,\n",
       "        nan, nan, nan, nan, nan, nan, nan, nan, nan, nan, nan, nan, nan, nan,\n",
       "        nan, nan, nan, nan, nan, nan, nan, nan, nan, nan, nan, nan, nan, nan,\n",
       "        nan, nan, nan, nan, nan, nan, nan, nan, nan, nan, nan, nan, nan, nan,\n",
       "        nan, nan, nan, nan, nan, nan, nan, nan, nan, nan, nan, nan, nan, nan,\n",
       "        nan, nan, nan, nan, nan, nan, nan, nan, nan, nan, nan, nan, nan],\n",
       "       [nan, nan, nan, nan, nan, nan, nan, nan, nan, nan, nan, nan, nan, nan,\n",
       "        nan, nan, nan, nan, nan, nan, nan, nan, nan, nan, nan, nan, nan, nan,\n",
       "        nan, nan, nan, nan, nan, nan, nan, nan, nan, nan, nan, nan, nan, nan,\n",
       "        nan, nan, nan, nan, nan, nan, nan, nan, nan, nan, nan, nan, nan, nan,\n",
       "        nan, nan, nan, nan, nan, nan, nan, nan, nan, nan, nan, nan, nan, nan,\n",
       "        nan, nan, nan, nan, nan, nan, nan, nan, nan, nan, nan, nan, nan, nan,\n",
       "        nan, nan, nan, nan, nan, nan, nan, nan, nan, nan, nan, nan, nan]],\n",
       "      dtype=float32)</pre></li><li class='xr-var-item'><div class='xr-var-name'><span>HISTORY_INSTITUTION</span></div><div class='xr-var-dims'>(N_HISTORY, N_PROF)</div><div class='xr-var-dtype'>object</div><div class='xr-var-preview xr-preview'>...</div><input id='attrs-f8338f7f-baa7-48ed-8314-4ebbea32e5b6' class='xr-var-attrs-in' type='checkbox' ><label for='attrs-f8338f7f-baa7-48ed-8314-4ebbea32e5b6' title='Show/Hide attributes'><svg class='icon xr-icon-file-text2'><use xlink:href='#icon-file-text2'></use></svg></label><input id='data-c56c357b-8a54-4839-864d-d919f2305dff' class='xr-var-data-in' type='checkbox'><label for='data-c56c357b-8a54-4839-864d-d919f2305dff' title='Show/Hide data repr'><svg class='icon xr-icon-database'><use xlink:href='#icon-database'></use></svg></label><div class='xr-var-attrs'><dl class='xr-attrs'><dt><span>long_name :</span></dt><dd>Institution which performed action</dd><dt><span>conventions :</span></dt><dd>Argo reference table 4</dd></dl></div><pre class='xr-var-data'>array([[b&#x27;IF  &#x27;, b&#x27;IF  &#x27;],\n",
       "       [b&#x27;IF  &#x27;, b&#x27;IF  &#x27;],\n",
       "       [b&#x27;IF  &#x27;, b&#x27;IF  &#x27;]], dtype=object)</pre></li><li class='xr-var-item'><div class='xr-var-name'><span>HISTORY_STEP</span></div><div class='xr-var-dims'>(N_HISTORY, N_PROF)</div><div class='xr-var-dtype'>object</div><div class='xr-var-preview xr-preview'>...</div><input id='attrs-7a002269-6fbc-4e7d-bcfe-70279a307409' class='xr-var-attrs-in' type='checkbox' ><label for='attrs-7a002269-6fbc-4e7d-bcfe-70279a307409' title='Show/Hide attributes'><svg class='icon xr-icon-file-text2'><use xlink:href='#icon-file-text2'></use></svg></label><input id='data-f4c6a6fb-c2da-40aa-a009-6a399b4856c8' class='xr-var-data-in' type='checkbox'><label for='data-f4c6a6fb-c2da-40aa-a009-6a399b4856c8' title='Show/Hide data repr'><svg class='icon xr-icon-database'><use xlink:href='#icon-database'></use></svg></label><div class='xr-var-attrs'><dl class='xr-attrs'><dt><span>long_name :</span></dt><dd>Step in data processing</dd><dt><span>conventions :</span></dt><dd>Argo reference table 12</dd></dl></div><pre class='xr-var-data'>array([[b&#x27;ARFM&#x27;, b&#x27;ARFM&#x27;],\n",
       "       [b&#x27;ARGQ&#x27;, b&#x27;ARGQ&#x27;],\n",
       "       [b&#x27;ARGQ&#x27;, b&#x27;ARGQ&#x27;]], dtype=object)</pre></li><li class='xr-var-item'><div class='xr-var-name'><span>HISTORY_SOFTWARE</span></div><div class='xr-var-dims'>(N_HISTORY, N_PROF)</div><div class='xr-var-dtype'>object</div><div class='xr-var-preview xr-preview'>...</div><input id='attrs-028481f0-fab7-4035-afc4-116b8f162c9d' class='xr-var-attrs-in' type='checkbox' ><label for='attrs-028481f0-fab7-4035-afc4-116b8f162c9d' title='Show/Hide attributes'><svg class='icon xr-icon-file-text2'><use xlink:href='#icon-file-text2'></use></svg></label><input id='data-d8c2f8bc-8e9e-40a6-a078-51cb8557d78e' class='xr-var-data-in' type='checkbox'><label for='data-d8c2f8bc-8e9e-40a6-a078-51cb8557d78e' title='Show/Hide data repr'><svg class='icon xr-icon-database'><use xlink:href='#icon-database'></use></svg></label><div class='xr-var-attrs'><dl class='xr-attrs'><dt><span>long_name :</span></dt><dd>Name of software which performed action</dd><dt><span>conventions :</span></dt><dd>Institution dependent</dd></dl></div><pre class='xr-var-data'>array([[b&#x27;CODA&#x27;, b&#x27;CODA&#x27;],\n",
       "       [b&#x27;COQC&#x27;, b&#x27;COQC&#x27;],\n",
       "       [b&#x27;COQC&#x27;, b&#x27;COQC&#x27;]], dtype=object)</pre></li><li class='xr-var-item'><div class='xr-var-name'><span>HISTORY_SOFTWARE_RELEASE</span></div><div class='xr-var-dims'>(N_HISTORY, N_PROF)</div><div class='xr-var-dtype'>object</div><div class='xr-var-preview xr-preview'>...</div><input id='attrs-71b4db7c-8eb1-42f0-81bd-b6f714cfae8d' class='xr-var-attrs-in' type='checkbox' ><label for='attrs-71b4db7c-8eb1-42f0-81bd-b6f714cfae8d' title='Show/Hide attributes'><svg class='icon xr-icon-file-text2'><use xlink:href='#icon-file-text2'></use></svg></label><input id='data-1d150f7e-57fd-4fca-95e8-5c058073b83c' class='xr-var-data-in' type='checkbox'><label for='data-1d150f7e-57fd-4fca-95e8-5c058073b83c' title='Show/Hide data repr'><svg class='icon xr-icon-database'><use xlink:href='#icon-database'></use></svg></label><div class='xr-var-attrs'><dl class='xr-attrs'><dt><span>long_name :</span></dt><dd>Version/release of software which performed action</dd><dt><span>conventions :</span></dt><dd>Institution dependent</dd></dl></div><pre class='xr-var-data'>array([[b&#x27;027d&#x27;, b&#x27;027d&#x27;],\n",
       "       [b&#x27;3.8 &#x27;, b&#x27;3.8 &#x27;],\n",
       "       [b&#x27;3.8 &#x27;, b&#x27;3.8 &#x27;]], dtype=object)</pre></li><li class='xr-var-item'><div class='xr-var-name'><span>HISTORY_REFERENCE</span></div><div class='xr-var-dims'>(N_HISTORY, N_PROF)</div><div class='xr-var-dtype'>object</div><div class='xr-var-preview xr-preview'>...</div><input id='attrs-55be35be-7d6f-4d13-8019-b2f1c6177f15' class='xr-var-attrs-in' type='checkbox' ><label for='attrs-55be35be-7d6f-4d13-8019-b2f1c6177f15' title='Show/Hide attributes'><svg class='icon xr-icon-file-text2'><use xlink:href='#icon-file-text2'></use></svg></label><input id='data-fdc8478d-1685-4ff9-b3f5-c3e2ff0a6926' class='xr-var-data-in' type='checkbox'><label for='data-fdc8478d-1685-4ff9-b3f5-c3e2ff0a6926' title='Show/Hide data repr'><svg class='icon xr-icon-database'><use xlink:href='#icon-database'></use></svg></label><div class='xr-var-attrs'><dl class='xr-attrs'><dt><span>long_name :</span></dt><dd>Reference of database</dd><dt><span>conventions :</span></dt><dd>Institution dependent</dd></dl></div><pre class='xr-var-data'>array([[b&#x27;                                                                &#x27;,\n",
       "        b&#x27;                                                                &#x27;],\n",
       "       [b&#x27;                                                                &#x27;,\n",
       "        b&#x27;                                                                &#x27;],\n",
       "       [b&#x27;                                                                &#x27;,\n",
       "        b&#x27;                                                                &#x27;]],\n",
       "      dtype=object)</pre></li><li class='xr-var-item'><div class='xr-var-name'><span>HISTORY_DATE</span></div><div class='xr-var-dims'>(N_HISTORY, N_PROF)</div><div class='xr-var-dtype'>object</div><div class='xr-var-preview xr-preview'>...</div><input id='attrs-1b3084ed-1ef8-425f-9cb8-1c1adc2f5288' class='xr-var-attrs-in' type='checkbox' ><label for='attrs-1b3084ed-1ef8-425f-9cb8-1c1adc2f5288' title='Show/Hide attributes'><svg class='icon xr-icon-file-text2'><use xlink:href='#icon-file-text2'></use></svg></label><input id='data-d663f06a-63ae-4162-a66d-4dacae547eaf' class='xr-var-data-in' type='checkbox'><label for='data-d663f06a-63ae-4162-a66d-4dacae547eaf' title='Show/Hide data repr'><svg class='icon xr-icon-database'><use xlink:href='#icon-database'></use></svg></label><div class='xr-var-attrs'><dl class='xr-attrs'><dt><span>long_name :</span></dt><dd>Date the history record was created</dd><dt><span>conventions :</span></dt><dd>YYYYMMDDHHMISS</dd></dl></div><pre class='xr-var-data'>array([[b&#x27;20190115112518&#x27;, b&#x27;20190115112518&#x27;],\n",
       "       [b&#x27;20190115112524&#x27;, b&#x27;20190115112524&#x27;],\n",
       "       [b&#x27;20190115112524&#x27;, b&#x27;20190115112524&#x27;]], dtype=object)</pre></li><li class='xr-var-item'><div class='xr-var-name'><span>HISTORY_ACTION</span></div><div class='xr-var-dims'>(N_HISTORY, N_PROF)</div><div class='xr-var-dtype'>object</div><div class='xr-var-preview xr-preview'>...</div><input id='attrs-e6a270a6-eea2-4125-80ae-141d5279a8e7' class='xr-var-attrs-in' type='checkbox' ><label for='attrs-e6a270a6-eea2-4125-80ae-141d5279a8e7' title='Show/Hide attributes'><svg class='icon xr-icon-file-text2'><use xlink:href='#icon-file-text2'></use></svg></label><input id='data-25371c56-c82b-4b85-a0af-f8e6ca89c11c' class='xr-var-data-in' type='checkbox'><label for='data-25371c56-c82b-4b85-a0af-f8e6ca89c11c' title='Show/Hide data repr'><svg class='icon xr-icon-database'><use xlink:href='#icon-database'></use></svg></label><div class='xr-var-attrs'><dl class='xr-attrs'><dt><span>long_name :</span></dt><dd>Action performed on data</dd><dt><span>conventions :</span></dt><dd>Argo reference table 7</dd></dl></div><pre class='xr-var-data'>array([[b&#x27;    &#x27;, b&#x27;    &#x27;],\n",
       "       [b&#x27;QCP$&#x27;, b&#x27;QCP$&#x27;],\n",
       "       [b&#x27;QCF$&#x27;, b&#x27;QCF$&#x27;]], dtype=object)</pre></li><li class='xr-var-item'><div class='xr-var-name'><span>HISTORY_PARAMETER</span></div><div class='xr-var-dims'>(N_HISTORY, N_PROF)</div><div class='xr-var-dtype'>object</div><div class='xr-var-preview xr-preview'>...</div><input id='attrs-2699f600-92fc-4632-a954-5b116abac70c' class='xr-var-attrs-in' type='checkbox' ><label for='attrs-2699f600-92fc-4632-a954-5b116abac70c' title='Show/Hide attributes'><svg class='icon xr-icon-file-text2'><use xlink:href='#icon-file-text2'></use></svg></label><input id='data-73c27dae-8350-438e-bb46-c00fd782fb8a' class='xr-var-data-in' type='checkbox'><label for='data-73c27dae-8350-438e-bb46-c00fd782fb8a' title='Show/Hide data repr'><svg class='icon xr-icon-database'><use xlink:href='#icon-database'></use></svg></label><div class='xr-var-attrs'><dl class='xr-attrs'><dt><span>long_name :</span></dt><dd>Station parameter action is performed on</dd><dt><span>conventions :</span></dt><dd>Argo reference table 3</dd></dl></div><pre class='xr-var-data'>array([[b&#x27;                &#x27;, b&#x27;                &#x27;],\n",
       "       [b&#x27;                &#x27;, b&#x27;                &#x27;],\n",
       "       [b&#x27;                &#x27;, b&#x27;                &#x27;]], dtype=object)</pre></li><li class='xr-var-item'><div class='xr-var-name'><span>HISTORY_START_PRES</span></div><div class='xr-var-dims'>(N_HISTORY, N_PROF)</div><div class='xr-var-dtype'>float32</div><div class='xr-var-preview xr-preview'>...</div><input id='attrs-7c3646ee-3f35-4705-b80f-38dac635e281' class='xr-var-attrs-in' type='checkbox' ><label for='attrs-7c3646ee-3f35-4705-b80f-38dac635e281' title='Show/Hide attributes'><svg class='icon xr-icon-file-text2'><use xlink:href='#icon-file-text2'></use></svg></label><input id='data-66a0e445-e0b2-4a2c-abdf-ecd4f1ca5150' class='xr-var-data-in' type='checkbox'><label for='data-66a0e445-e0b2-4a2c-abdf-ecd4f1ca5150' title='Show/Hide data repr'><svg class='icon xr-icon-database'><use xlink:href='#icon-database'></use></svg></label><div class='xr-var-attrs'><dl class='xr-attrs'><dt><span>long_name :</span></dt><dd>Start pressure action applied on</dd><dt><span>units :</span></dt><dd>decibar</dd></dl></div><pre class='xr-var-data'>array([[nan, nan],\n",
       "       [nan, nan],\n",
       "       [nan, nan]], dtype=float32)</pre></li><li class='xr-var-item'><div class='xr-var-name'><span>HISTORY_STOP_PRES</span></div><div class='xr-var-dims'>(N_HISTORY, N_PROF)</div><div class='xr-var-dtype'>float32</div><div class='xr-var-preview xr-preview'>...</div><input id='attrs-1b6dd2e6-8d45-4434-9525-78b0c5299dca' class='xr-var-attrs-in' type='checkbox' ><label for='attrs-1b6dd2e6-8d45-4434-9525-78b0c5299dca' title='Show/Hide attributes'><svg class='icon xr-icon-file-text2'><use xlink:href='#icon-file-text2'></use></svg></label><input id='data-c9a6bb4e-e633-44dc-9a68-9ffb221b1d73' class='xr-var-data-in' type='checkbox'><label for='data-c9a6bb4e-e633-44dc-9a68-9ffb221b1d73' title='Show/Hide data repr'><svg class='icon xr-icon-database'><use xlink:href='#icon-database'></use></svg></label><div class='xr-var-attrs'><dl class='xr-attrs'><dt><span>long_name :</span></dt><dd>Stop pressure action applied on</dd><dt><span>units :</span></dt><dd>decibar</dd></dl></div><pre class='xr-var-data'>array([[nan, nan],\n",
       "       [nan, nan],\n",
       "       [nan, nan]], dtype=float32)</pre></li><li class='xr-var-item'><div class='xr-var-name'><span>HISTORY_PREVIOUS_VALUE</span></div><div class='xr-var-dims'>(N_HISTORY, N_PROF)</div><div class='xr-var-dtype'>float32</div><div class='xr-var-preview xr-preview'>...</div><input id='attrs-0b83babf-dad9-49f0-ab17-3bd0bcbba707' class='xr-var-attrs-in' type='checkbox' ><label for='attrs-0b83babf-dad9-49f0-ab17-3bd0bcbba707' title='Show/Hide attributes'><svg class='icon xr-icon-file-text2'><use xlink:href='#icon-file-text2'></use></svg></label><input id='data-baf4da34-c686-400b-aa71-d83bfc9adda0' class='xr-var-data-in' type='checkbox'><label for='data-baf4da34-c686-400b-aa71-d83bfc9adda0' title='Show/Hide data repr'><svg class='icon xr-icon-database'><use xlink:href='#icon-database'></use></svg></label><div class='xr-var-attrs'><dl class='xr-attrs'><dt><span>long_name :</span></dt><dd>Parameter/Flag previous value before action</dd></dl></div><pre class='xr-var-data'>array([[nan, nan],\n",
       "       [nan, nan],\n",
       "       [nan, nan]], dtype=float32)</pre></li><li class='xr-var-item'><div class='xr-var-name'><span>HISTORY_QCTEST</span></div><div class='xr-var-dims'>(N_HISTORY, N_PROF)</div><div class='xr-var-dtype'>object</div><div class='xr-var-preview xr-preview'>...</div><input id='attrs-0fdfca02-fb8e-4d4b-bd2e-eb47dc40613a' class='xr-var-attrs-in' type='checkbox' ><label for='attrs-0fdfca02-fb8e-4d4b-bd2e-eb47dc40613a' title='Show/Hide attributes'><svg class='icon xr-icon-file-text2'><use xlink:href='#icon-file-text2'></use></svg></label><input id='data-d9586a88-0aab-4626-990c-7dadf9fa4b52' class='xr-var-data-in' type='checkbox'><label for='data-d9586a88-0aab-4626-990c-7dadf9fa4b52' title='Show/Hide data repr'><svg class='icon xr-icon-database'><use xlink:href='#icon-database'></use></svg></label><div class='xr-var-attrs'><dl class='xr-attrs'><dt><span>long_name :</span></dt><dd>Documentation of tests performed, tests failed (in hex form)</dd><dt><span>conventions :</span></dt><dd>Write tests performed when ACTION=QCP$; tests failed when ACTION=QCF$</dd></dl></div><pre class='xr-var-data'>array([[b&#x27;                &#x27;, b&#x27;                &#x27;],\n",
       "       [b&#x27;000000000008FB7E&#x27;, b&#x27;0000000000689B7E&#x27;],\n",
       "       [b&#x27;0000000000000000&#x27;, b&#x27;0000000000600000&#x27;]], dtype=object)</pre></li><li class='xr-var-item'><div class='xr-var-name'><span>PARAMETER</span></div><div class='xr-var-dims'>(N_PROF, N_CALIB, N_PARAM)</div><div class='xr-var-dtype'>object</div><div class='xr-var-preview xr-preview'>...</div><input id='attrs-4b935c29-ad0c-4b65-a95e-60758db7805c' class='xr-var-attrs-in' type='checkbox' ><label for='attrs-4b935c29-ad0c-4b65-a95e-60758db7805c' title='Show/Hide attributes'><svg class='icon xr-icon-file-text2'><use xlink:href='#icon-file-text2'></use></svg></label><input id='data-f7957566-010c-4b25-b373-0615b16907d9' class='xr-var-data-in' type='checkbox'><label for='data-f7957566-010c-4b25-b373-0615b16907d9' title='Show/Hide data repr'><svg class='icon xr-icon-database'><use xlink:href='#icon-database'></use></svg></label><div class='xr-var-attrs'><dl class='xr-attrs'><dt><span>long_name :</span></dt><dd>List of parameters with calibration information</dd><dt><span>conventions :</span></dt><dd>Argo reference table 3</dd></dl></div><pre class='xr-var-data'>array([[[b&#x27;PRES            &#x27;, b&#x27;TEMP            &#x27;, b&#x27;PSAL            &#x27;]],\n",
       "\n",
       "       [[b&#x27;PRES            &#x27;, b&#x27;TEMP            &#x27;, b&#x27;PSAL            &#x27;]]],\n",
       "      dtype=object)</pre></li><li class='xr-var-item'><div class='xr-var-name'><span>SCIENTIFIC_CALIB_EQUATION</span></div><div class='xr-var-dims'>(N_PROF, N_CALIB, N_PARAM)</div><div class='xr-var-dtype'>object</div><div class='xr-var-preview xr-preview'>...</div><input id='attrs-6a53a40e-35bf-48d7-81e1-33ed58944602' class='xr-var-attrs-in' type='checkbox' ><label for='attrs-6a53a40e-35bf-48d7-81e1-33ed58944602' title='Show/Hide attributes'><svg class='icon xr-icon-file-text2'><use xlink:href='#icon-file-text2'></use></svg></label><input id='data-33b30626-c744-4efd-8147-c0832a61825f' class='xr-var-data-in' type='checkbox'><label for='data-33b30626-c744-4efd-8147-c0832a61825f' title='Show/Hide data repr'><svg class='icon xr-icon-database'><use xlink:href='#icon-database'></use></svg></label><div class='xr-var-attrs'><dl class='xr-attrs'><dt><span>long_name :</span></dt><dd>Calibration equation for this parameter</dd></dl></div><pre class='xr-var-data'>array([[[b&#x27;                                                                                                                                                                                                                                                                &#x27;,\n",
       "         b&#x27;                                                                                                                                                                                                                                                                &#x27;,\n",
       "         b&#x27;                                                                                                                                                                                                                                                                &#x27;]],\n",
       "\n",
       "       [[b&#x27;                                                                                                                                                                                                                                                                &#x27;,\n",
       "         b&#x27;                                                                                                                                                                                                                                                                &#x27;,\n",
       "         b&#x27;                                                                                                                                                                                                                                                                &#x27;]]],\n",
       "      dtype=object)</pre></li><li class='xr-var-item'><div class='xr-var-name'><span>SCIENTIFIC_CALIB_COEFFICIENT</span></div><div class='xr-var-dims'>(N_PROF, N_CALIB, N_PARAM)</div><div class='xr-var-dtype'>object</div><div class='xr-var-preview xr-preview'>...</div><input id='attrs-4ac809c0-88b3-4563-afb1-f53942ce9b1f' class='xr-var-attrs-in' type='checkbox' ><label for='attrs-4ac809c0-88b3-4563-afb1-f53942ce9b1f' title='Show/Hide attributes'><svg class='icon xr-icon-file-text2'><use xlink:href='#icon-file-text2'></use></svg></label><input id='data-1bb2274c-91d7-4f21-a30f-e37dad373244' class='xr-var-data-in' type='checkbox'><label for='data-1bb2274c-91d7-4f21-a30f-e37dad373244' title='Show/Hide data repr'><svg class='icon xr-icon-database'><use xlink:href='#icon-database'></use></svg></label><div class='xr-var-attrs'><dl class='xr-attrs'><dt><span>long_name :</span></dt><dd>Calibration coefficients for this equation</dd></dl></div><pre class='xr-var-data'>array([[[b&#x27;                                                                                                                                                                                                                                                                &#x27;,\n",
       "         b&#x27;                                                                                                                                                                                                                                                                &#x27;,\n",
       "         b&#x27;                                                                                                                                                                                                                                                                &#x27;]],\n",
       "\n",
       "       [[b&#x27;                                                                                                                                                                                                                                                                &#x27;,\n",
       "         b&#x27;                                                                                                                                                                                                                                                                &#x27;,\n",
       "         b&#x27;                                                                                                                                                                                                                                                                &#x27;]]],\n",
       "      dtype=object)</pre></li><li class='xr-var-item'><div class='xr-var-name'><span>SCIENTIFIC_CALIB_COMMENT</span></div><div class='xr-var-dims'>(N_PROF, N_CALIB, N_PARAM)</div><div class='xr-var-dtype'>object</div><div class='xr-var-preview xr-preview'>...</div><input id='attrs-ae9101ab-d3f5-45e6-ae14-4ad1b6e9d664' class='xr-var-attrs-in' type='checkbox' ><label for='attrs-ae9101ab-d3f5-45e6-ae14-4ad1b6e9d664' title='Show/Hide attributes'><svg class='icon xr-icon-file-text2'><use xlink:href='#icon-file-text2'></use></svg></label><input id='data-472af412-07ed-499d-9886-7dd72fff687d' class='xr-var-data-in' type='checkbox'><label for='data-472af412-07ed-499d-9886-7dd72fff687d' title='Show/Hide data repr'><svg class='icon xr-icon-database'><use xlink:href='#icon-database'></use></svg></label><div class='xr-var-attrs'><dl class='xr-attrs'><dt><span>long_name :</span></dt><dd>Comment applying to this parameter calibration</dd></dl></div><pre class='xr-var-data'>array([[[b&#x27;                                                                                                                                                                                                                                                                &#x27;,\n",
       "         b&#x27;                                                                                                                                                                                                                                                                &#x27;,\n",
       "         b&#x27;                                                                                                                                                                                                                                                                &#x27;]],\n",
       "\n",
       "       [[b&#x27;                                                                                                                                                                                                                                                                &#x27;,\n",
       "         b&#x27;                                                                                                                                                                                                                                                                &#x27;,\n",
       "         b&#x27;                                                                                                                                                                                                                                                                &#x27;]]],\n",
       "      dtype=object)</pre></li><li class='xr-var-item'><div class='xr-var-name'><span>SCIENTIFIC_CALIB_DATE</span></div><div class='xr-var-dims'>(N_PROF, N_CALIB, N_PARAM)</div><div class='xr-var-dtype'>object</div><div class='xr-var-preview xr-preview'>...</div><input id='attrs-3385f4c2-218c-47e4-867f-f86153a673d1' class='xr-var-attrs-in' type='checkbox' ><label for='attrs-3385f4c2-218c-47e4-867f-f86153a673d1' title='Show/Hide attributes'><svg class='icon xr-icon-file-text2'><use xlink:href='#icon-file-text2'></use></svg></label><input id='data-745df4b9-bedd-4f87-9209-d7b02375f15e' class='xr-var-data-in' type='checkbox'><label for='data-745df4b9-bedd-4f87-9209-d7b02375f15e' title='Show/Hide data repr'><svg class='icon xr-icon-database'><use xlink:href='#icon-database'></use></svg></label><div class='xr-var-attrs'><dl class='xr-attrs'><dt><span>long_name :</span></dt><dd>Date of calibration</dd><dt><span>conventions :</span></dt><dd>YYYYMMDDHHMISS</dd></dl></div><pre class='xr-var-data'>array([[[b&#x27;              &#x27;, b&#x27;              &#x27;, b&#x27;              &#x27;]],\n",
       "\n",
       "       [[b&#x27;              &#x27;, b&#x27;              &#x27;, b&#x27;              &#x27;]]],\n",
       "      dtype=object)</pre></li></ul></div></li><li class='xr-section-item'><input id='section-c7966ba8-3174-48f6-86dd-d1182740311c' class='xr-section-summary-in' type='checkbox'  checked><label for='section-c7966ba8-3174-48f6-86dd-d1182740311c' class='xr-section-summary' >Attributes: <span>(9)</span></label><div class='xr-section-inline-details'></div><div class='xr-section-details'><dl class='xr-attrs'><dt><span>title :</span></dt><dd>Argo float vertical profile</dd><dt><span>institution :</span></dt><dd>CORIOLIS</dd><dt><span>source :</span></dt><dd>Argo float</dd><dt><span>history :</span></dt><dd>2019-01-15T11:25:18Z creation; 2019-01-15T11:25:24Z last update (coriolis COQC software)</dd><dt><span>references :</span></dt><dd>http://www.argodatamgt.org/Documentation</dd><dt><span>user_manual_version :</span></dt><dd>3.1</dd><dt><span>Conventions :</span></dt><dd>Argo-3.1 CF-1.6</dd><dt><span>featureType :</span></dt><dd>trajectoryProfile</dd><dt><span>decoder_version :</span></dt><dd>CODA_027d</dd></dl></div></li></ul></div></div>"
      ],
      "text/plain": [
       "<xarray.Dataset>\n",
       "Dimensions:                       (N_CALIB: 1, N_HISTORY: 3, N_LEVELS: 97, N_PARAM: 3, N_PROF: 2)\n",
       "Dimensions without coordinates: N_CALIB, N_HISTORY, N_LEVELS, N_PARAM, N_PROF\n",
       "Data variables:\n",
       "    DATA_TYPE                     object ...\n",
       "    FORMAT_VERSION                object ...\n",
       "    HANDBOOK_VERSION              object ...\n",
       "    REFERENCE_DATE_TIME           object ...\n",
       "    DATE_CREATION                 object ...\n",
       "    DATE_UPDATE                   object ...\n",
       "    PLATFORM_NUMBER               (N_PROF) object ...\n",
       "    PROJECT_NAME                  (N_PROF) object ...\n",
       "    PI_NAME                       (N_PROF) object ...\n",
       "    STATION_PARAMETERS            (N_PROF, N_PARAM) object ...\n",
       "    CYCLE_NUMBER                  (N_PROF) float64 ...\n",
       "    DIRECTION                     (N_PROF) object ...\n",
       "    DATA_CENTRE                   (N_PROF) object ...\n",
       "    DC_REFERENCE                  (N_PROF) object ...\n",
       "    DATA_STATE_INDICATOR          (N_PROF) object ...\n",
       "    DATA_MODE                     (N_PROF) object ...\n",
       "    PLATFORM_TYPE                 (N_PROF) object ...\n",
       "    FLOAT_SERIAL_NO               (N_PROF) object ...\n",
       "    FIRMWARE_VERSION              (N_PROF) object ...\n",
       "    WMO_INST_TYPE                 (N_PROF) object ...\n",
       "    JULD                          (N_PROF) datetime64[ns] ...\n",
       "    JULD_QC                       (N_PROF) object ...\n",
       "    JULD_LOCATION                 (N_PROF) datetime64[ns] ...\n",
       "    LATITUDE                      (N_PROF) float64 ...\n",
       "    LONGITUDE                     (N_PROF) float64 ...\n",
       "    POSITION_QC                   (N_PROF) object ...\n",
       "    POSITIONING_SYSTEM            (N_PROF) object ...\n",
       "    PROFILE_PRES_QC               (N_PROF) object ...\n",
       "    PROFILE_TEMP_QC               (N_PROF) object ...\n",
       "    PROFILE_PSAL_QC               (N_PROF) object ...\n",
       "    VERTICAL_SAMPLING_SCHEME      (N_PROF) object ...\n",
       "    CONFIG_MISSION_NUMBER         (N_PROF) float64 ...\n",
       "    PRES                          (N_PROF, N_LEVELS) float32 ...\n",
       "    PRES_QC                       (N_PROF, N_LEVELS) object ...\n",
       "    PRES_ADJUSTED                 (N_PROF, N_LEVELS) float32 ...\n",
       "    PRES_ADJUSTED_QC              (N_PROF, N_LEVELS) object ...\n",
       "    PRES_ADJUSTED_ERROR           (N_PROF, N_LEVELS) float32 ...\n",
       "    TEMP                          (N_PROF, N_LEVELS) float32 ...\n",
       "    TEMP_QC                       (N_PROF, N_LEVELS) object ...\n",
       "    TEMP_ADJUSTED                 (N_PROF, N_LEVELS) float32 ...\n",
       "    TEMP_ADJUSTED_QC              (N_PROF, N_LEVELS) object ...\n",
       "    TEMP_ADJUSTED_ERROR           (N_PROF, N_LEVELS) float32 ...\n",
       "    PSAL                          (N_PROF, N_LEVELS) float32 ...\n",
       "    PSAL_QC                       (N_PROF, N_LEVELS) object ...\n",
       "    PSAL_ADJUSTED                 (N_PROF, N_LEVELS) float32 ...\n",
       "    PSAL_ADJUSTED_QC              (N_PROF, N_LEVELS) object ...\n",
       "    PSAL_ADJUSTED_ERROR           (N_PROF, N_LEVELS) float32 ...\n",
       "    HISTORY_INSTITUTION           (N_HISTORY, N_PROF) object ...\n",
       "    HISTORY_STEP                  (N_HISTORY, N_PROF) object ...\n",
       "    HISTORY_SOFTWARE              (N_HISTORY, N_PROF) object ...\n",
       "    HISTORY_SOFTWARE_RELEASE      (N_HISTORY, N_PROF) object ...\n",
       "    HISTORY_REFERENCE             (N_HISTORY, N_PROF) object ...\n",
       "    HISTORY_DATE                  (N_HISTORY, N_PROF) object ...\n",
       "    HISTORY_ACTION                (N_HISTORY, N_PROF) object ...\n",
       "    HISTORY_PARAMETER             (N_HISTORY, N_PROF) object ...\n",
       "    HISTORY_START_PRES            (N_HISTORY, N_PROF) float32 ...\n",
       "    HISTORY_STOP_PRES             (N_HISTORY, N_PROF) float32 ...\n",
       "    HISTORY_PREVIOUS_VALUE        (N_HISTORY, N_PROF) float32 ...\n",
       "    HISTORY_QCTEST                (N_HISTORY, N_PROF) object ...\n",
       "    PARAMETER                     (N_PROF, N_CALIB, N_PARAM) object ...\n",
       "    SCIENTIFIC_CALIB_EQUATION     (N_PROF, N_CALIB, N_PARAM) object ...\n",
       "    SCIENTIFIC_CALIB_COEFFICIENT  (N_PROF, N_CALIB, N_PARAM) object ...\n",
       "    SCIENTIFIC_CALIB_COMMENT      (N_PROF, N_CALIB, N_PARAM) object ...\n",
       "    SCIENTIFIC_CALIB_DATE         (N_PROF, N_CALIB, N_PARAM) object ...\n",
       "Attributes:\n",
       "    title:                Argo float vertical profile\n",
       "    institution:          CORIOLIS\n",
       "    source:               Argo float\n",
       "    history:              2019-01-15T11:25:18Z creation; 2019-01-15T11:25:24Z...\n",
       "    references:           http://www.argodatamgt.org/Documentation\n",
       "    user_manual_version:  3.1\n",
       "    Conventions:          Argo-3.1 CF-1.6\n",
       "    featureType:          trajectoryProfile\n",
       "    decoder_version:      CODA_027d"
      ]
     },
     "execution_count": 24,
     "metadata": {},
     "output_type": "execute_result"
    }
   ],
   "source": [
    "cy1"
   ]
  },
  {
   "cell_type": "markdown",
   "metadata": {},
   "source": [
    "We see how useful is the **Self-Describing** propierty of the netCDF format. Let's focus in the core variables, TEMP, SALT and PRES. Although we could inspect the previous print-out of the *cy1* dataset, we can use the data itself:"
   ]
  },
  {
   "cell_type": "code",
   "execution_count": 25,
   "metadata": {},
   "outputs": [
    {
     "name": "stdout",
     "output_type": "stream",
     "text": [
      "The core variables are: \n",
      " TEMP Sea temperature in-situ ITS-90 scale \n",
      " PSAL Practical salinity and \n",
      " PRESSea water pressure, equals 0 at sea-level\n"
     ]
    }
   ],
   "source": [
    "print(f\"The core variables are: \\n TEMP {cy1.TEMP.long_name} \\n PSAL {cy1.PSAL.long_name} and \\n PRES{cy1.PRES.long_name}\")"
   ]
  },
  {
   "cell_type": "code",
   "execution_count": 26,
   "metadata": {},
   "outputs": [
    {
     "name": "stdout",
     "output_type": "stream",
     "text": [
      "The dimesions of TEMP are:\n",
      " N_PROF:2 \n",
      " N_LEVELS:97\n"
     ]
    }
   ],
   "source": [
    "print(f\"The dimesions of TEMP are:\\n {cy1.TEMP.dims[0]}:{cy1.TEMP.shape[0]} \\n {cy1.TEMP.dims[1]}:{cy1.TEMP.shape[1]}\")"
   ]
  },
  {
   "cell_type": "markdown",
   "metadata": {},
   "source": [
    "We note that for for the first cycle there are two profiles (N_PROF=2) and 95 vertical levels... lets plot them:"
   ]
  },
  {
   "cell_type": "code",
   "execution_count": 27,
   "metadata": {},
   "outputs": [
    {
     "data": {
      "image/png": "[encoded data removed]",
      "text/plain": [
       "<Figure size 576x720 with 2 Axes>"
      ]
     },
     "metadata": {
      "filenames": {
       "image/png": "/Users/pvb/Dropbox/Oceanografia/Proyectos/Argo/ArgopyforAOS/argoonlineschool/_build/jupyter_execute/L20_ArgoDatabyFloat_16_0.png"
      },
      "needs_background": "light"
     },
     "output_type": "display_data"
    }
   ],
   "source": [
    "fig, ax = plt.subplots(1,2,figsize=(8,10))\n",
    "\n",
    "#Temperature\n",
    "ax[0].plot(cy1.TEMP[0],-cy1.PRES[0],'b-',label='N_PROF=0')\n",
    "ax[0].plot(cy1.TEMP[1],-cy1.PRES[1],'r.',label='N_PROF=1')\n",
    "ax[0].set_title(cy1.TEMP.long_name)\n",
    "ax[0].set_ylabel(cy1.PRES.long_name)\n",
    "ax[0].grid()\n",
    "ax[0].legend()\n",
    "\n",
    "#Salinity\n",
    "ax[1].plot(cy1.PSAL[0],-cy1.PRES[0],'b-',label='N_PROF=0')\n",
    "ax[1].plot(cy1.PSAL[1],-cy1.PRES[1],'ro',label='N_PROF=1')\n",
    "ax[1].set_title(cy1.PSAL.long_name)\n",
    "ax[1].grid()"
   ]
  },
  {
   "cell_type": "markdown",
   "metadata": {},
   "source": [
    "This is, within the cycle file, there area two profiles. The first one (N_PROF=0 in blue) it is measured during its ascend from 2000 dbar to 5 dbar and it constitutes the core argo program; the second one (N_PROF=1 in red) only measures the top 5 dbar. \n",
    "\n",
    "Once again all the information is in the netcf file, the data variable *VERTICAL_SAMPLING_SCHEME* contains all the details:"
   ]
  },
  {
   "cell_type": "code",
   "execution_count": 28,
   "metadata": {},
   "outputs": [
    {
     "name": "stdout",
     "output_type": "stream",
     "text": [
      "The first profile is the: Primary sampling: averaged [10 sec sampling, 25 dbar average from 2000 dbar to 200 dbar; 10 sec sampling, 10 dbar average from 200 dbar to 10 dbar; 10 sec sampling, 1 dbar average from 10 dbar to 5.5 dbar]                                                   \n"
     ]
    }
   ],
   "source": [
    "print(f\"The first profile is the: { str(cy1.VERTICAL_SAMPLING_SCHEME[0].astype(str).values) }\")"
   ]
  },
  {
   "cell_type": "code",
   "execution_count": 29,
   "metadata": {},
   "outputs": [
    {
     "name": "stdout",
     "output_type": "stream",
     "text": [
      "The second profile is the: Near-surface sampling: averaged, unpumped [10 sec sampling, 1 dbar average from 5.5 dbar to surface]                                                                                                                                                            \n"
     ]
    }
   ],
   "source": [
    "print(f\"The second profile is the: {cy1.VERTICAL_SAMPLING_SCHEME[1].astype(str).values}\")"
   ]
  },
  {
   "cell_type": "markdown",
   "metadata": {},
   "source": [
    "Ago floats may measure several profiles in each cycle, however as a rule of thumb the first profile is always the **core mission argo CTD profile** (2000 dbar - 5 dbar). In the case of this float there is an additional second profile, with higher resolution (10 sec sampling and 1 dbar average) but unpumped, this is the sensor of conductity (for salinity) is not pumping water through to avoid contamination or biodeposition from the surface. The data from this second profile is used, mostly, for calibrations of SST observations from satellite.\n",
    "\n",
    "In the *Reference table 16: vertical sampling schemes* of the *Argo Data Management Team. Argo user’s manual. https://doi.org/10.13155/29825* there is a description of all the different options in VERTICAL_SAMPLING_SCHEME. However a discusion of all of them is beyond the objective of this AoS than focus on understanding the basic concepts."
   ]
  },
  {
   "cell_type": "markdown",
   "metadata": {},
   "source": [
    "### The descending profile\n",
    "As mentioned before, some floats also make measurmentes in the first descending phase of the first cycle, the data is in the <R/D><FloatWmoID>_001D.nc file"
   ]
  },
  {
   "cell_type": "code",
   "execution_count": 30,
   "metadata": {},
   "outputs": [],
   "source": [
    "cy1D = xr.open_dataset('./Data/6901254/profiles/R6901254_001D.nc')"
   ]
  },
  {
   "cell_type": "code",
   "execution_count": 31,
   "metadata": {},
   "outputs": [
    {
     "name": "stdout",
     "output_type": "stream",
     "text": [
      "The dimesions of TEMP are:\n",
      " N_PROF:1 \n",
      " N_LEVELS:51\n"
     ]
    }
   ],
   "source": [
    "print(f\"The dimesions of TEMP are:\\n {cy1D.TEMP.dims[0]}:{cy1D.TEMP.shape[0]} \\n {cy1D.TEMP.dims[1]}:{cy1D.TEMP.shape[1]}\")"
   ]
  },
  {
   "cell_type": "markdown",
   "metadata": {},
   "source": [
    "in this case there is only one profile, let's plot it together with the ascending data (cy1):\n"
   ]
  },
  {
   "cell_type": "code",
   "execution_count": 32,
   "metadata": {},
   "outputs": [
    {
     "data": {
      "image/png": "[encoded data removed]",
      "text/plain": [
       "<Figure size 576x720 with 2 Axes>"
      ]
     },
     "metadata": {
      "filenames": {
       "image/png": "/Users/pvb/Dropbox/Oceanografia/Proyectos/Argo/ArgopyforAOS/argoonlineschool/_build/jupyter_execute/L20_ArgoDatabyFloat_25_0.png"
      },
      "needs_background": "light"
     },
     "output_type": "display_data"
    }
   ],
   "source": [
    "fig, ax = plt.subplots(1,2,figsize=(8,10))\n",
    "\n",
    "#Temperature\n",
    "ax[0].plot(cy1D.TEMP[0],-cy1D.PRES[0],'k-',label='N_PROF=0 Descending',linewidth=3.0)\n",
    "ax[0].plot(cy1.TEMP[0],-cy1.PRES[0],'b-',label='N_PROF=0 Ascending')\n",
    "ax[0].plot(cy1.TEMP[1],-cy1.PRES[1],'ro',label='N_PROF=1 Ascending')\n",
    "ax[0].set_title(cy1.TEMP.long_name)\n",
    "ax[0].set_ylabel(cy1.PRES.long_name)\n",
    "ax[0].grid()\n",
    "ax[0].legend()\n",
    "\n",
    "#Salinity\n",
    "ax[1].plot(cy1D.PSAL[0],-cy1D.PRES[0],'k-',label='N_PROF=0 Descending',linewidth=3.0)\n",
    "ax[1].plot(cy1.PSAL[0],-cy1.PRES[0],'b-',label='N_PROF=0 Ascending')\n",
    "ax[1].plot(cy1.PSAL[1],-cy1.PRES[1],'ro',label='N_PROF=1 Ascending')\n",
    "ax[1].set_title(cy1.PSAL.long_name)\n",
    "ax[1].grid()"
   ]
  },
  {
   "cell_type": "markdown",
   "metadata": {},
   "source": [
    "As indicated in the figura, the first descending is only until the parking depth."
   ]
  },
  {
   "cell_type": "markdown",
   "metadata": {},
   "source": [
    "### Geographical information\n",
    "The netcdf file include the information about the geographical postion of the observations (LONGITUDE and LATITUDE) and the date of the observation (JULD)"
   ]
  },
  {
   "cell_type": "code",
   "execution_count": 33,
   "metadata": {},
   "outputs": [
    {
     "name": "stdout",
     "output_type": "stream",
     "text": [
      "The Longitude of the station, best estimate is in the variable LONGITUDE\n",
      "The Latitude of the station, best estimate is in the variable LATITUDE\n",
      "The Julian day (UTC) of the station relative to REFERENCE_DATE_TIME is in the variable JULD\n"
     ]
    }
   ],
   "source": [
    "for variable in ['LONGITUDE', 'LATITUDE' , 'JULD']:\n",
    "   print(f\"The {cy1.data_vars[variable].long_name} is in the variable {variable}\")"
   ]
  },
  {
   "cell_type": "markdown",
   "metadata": {},
   "source": [
    "Let's plot it"
   ]
  },
  {
   "cell_type": "code",
   "execution_count": 34,
   "metadata": {},
   "outputs": [
    {
     "data": {
      "image/png": "[encoded data removed]",
      "text/plain": [
       "<Figure size 576x576 with 1 Axes>"
      ]
     },
     "metadata": {
      "filenames": {
       "image/png": "/Users/pvb/Dropbox/Oceanografia/Proyectos/Argo/ArgopyforAOS/argoonlineschool/_build/jupyter_execute/L20_ArgoDatabyFloat_30_0.png"
      },
      "needs_background": "light"
     },
     "output_type": "display_data"
    }
   ],
   "source": [
    "fig, ax = plt.subplots(figsize=(8,8))\n",
    "\n",
    "ax.plot(cy1D.LONGITUDE[0],cy1D.LATITUDE[0],'ko',label='001D N_PROF=0 Descending')\n",
    "ax.plot(cy1.LONGITUDE[0],cy1.LATITUDE[0],'bo',label='001 N_PROF=0 Ascending')\n",
    "#ax.set_title(cy1..long_name)\n",
    "ax.set_xlabel(cy1.LONGITUDE.long_name)\n",
    "ax.set_ylabel(cy1.LATITUDE.long_name)\n",
    "ax.text(cy1D.LONGITUDE[0],cy1D.LATITUDE[0],'Date of observation for 001D:'+cy1D.JULD[0].values.astype(str), fontsize=14)\n",
    "ax.text(cy1.LONGITUDE[0],cy1.LATITUDE[0],'Date of observation for 001:'+cy1.JULD[0].values.astype(str), fontsize=14)\n",
    "ax.grid()\n",
    "ax.legend();"
   ]
  },
  {
   "cell_type": "markdown",
   "metadata": {},
   "source": [
    "The 2 ascending profiles in 001 have, obviously, the same time stamp:"
   ]
  },
  {
   "cell_type": "code",
   "execution_count": 35,
   "metadata": {},
   "outputs": [
    {
     "name": "stdout",
     "output_type": "stream",
     "text": [
      "2018-10-25T05:30:00.000000000\n",
      "2018-10-25T05:30:00.000000000\n"
     ]
    }
   ],
   "source": [
    "print(cy1.JULD[0].values.astype(str))\n",
    "print(cy1.JULD[1].values.astype(str))"
   ]
  },
  {
   "cell_type": "markdown",
   "metadata": {},
   "source": [
    "Note that for some floats there is a <R/D><FloatWmoID>_000.n or even a <R/D><FloatWmoID>_000D.n file."
   ]
  },
  {
   "cell_type": "markdown",
   "metadata": {},
   "source": [
    "### Meta information in the cycle file\n",
    "The netcdf file for each cycle includes a lot of additional information about each one of the profiles in it. Let's take a look of the basic information. "
   ]
  },
  {
   "cell_type": "code",
   "execution_count": 36,
   "metadata": {},
   "outputs": [
    {
     "name": "stdout",
     "output_type": "stream",
     "text": [
      "For cycle [1] The Direction of the station profiles (DIRECTION) is ['D']\n",
      "For cycle  [1 1] the Direction of the station profiles  (DIRECTION) is ['A' 'A']\n"
     ]
    }
   ],
   "source": [
    "print(f\"For cycle {cy1D.CYCLE_NUMBER.astype(int).values} The {cy1D.DIRECTION.long_name} (DIRECTION) is {cy1D.DIRECTION.values.astype(str)}\")\n",
    "print(f\"For cycle  {cy1.CYCLE_NUMBER.astype(int).values} the {cy1.DIRECTION.long_name}  (DIRECTION) is {cy1.DIRECTION.values.astype(str)}\")"
   ]
  },
  {
   "cell_type": "markdown",
   "metadata": {},
   "source": [
    "A is for ascending and D for descending."
   ]
  },
  {
   "cell_type": "markdown",
   "metadata": {},
   "source": [
    "And all the meta information of the float, and for each profile within each cycle, among others:"
   ]
  },
  {
   "cell_type": "code",
   "execution_count": 37,
   "metadata": {},
   "outputs": [
    {
     "name": "stdout",
     "output_type": "stream",
     "text": [
      "The Float unique identifier (PLATFORM_NUMBER) is ['6901254 ' '6901254 ']\n",
      "The Data centre in charge of float data processing (DATA_CENTRE) is ['IF' 'IF']\n",
      "The Name of the project (PROJECT_NAME) is ['ARGO SPAIN                                                      '\n",
      " 'ARGO SPAIN                                                      ']\n",
      "The Name of the principal investigator (PI_NAME) is ['Pedro Velez                                                     '\n",
      " 'Pedro Velez                                                     ']\n"
     ]
    }
   ],
   "source": [
    "for variable in ['PLATFORM_NUMBER','DATA_CENTRE','PROJECT_NAME','PI_NAME']:\n",
    "   print(f\"The {cy1.data_vars[variable].long_name} ({variable}) is {cy1.data_vars[variable].values.astype(str)}\")"
   ]
  },
  {
   "cell_type": "markdown",
   "metadata": {},
   "source": [
    "We can also access the dimession that define the profile"
   ]
  },
  {
   "cell_type": "code",
   "execution_count": 38,
   "metadata": {},
   "outputs": [
    {
     "name": "stdout",
     "output_type": "stream",
     "text": [
      "N_CALIB 1\n",
      "N_HISTORY 3\n",
      "N_LEVELS 97\n",
      "N_PARAM 3\n",
      "N_PROF 2\n"
     ]
    }
   ],
   "source": [
    "for key in cy1.dims.keys():\n",
    "    print(key,cy1.dims[key])"
   ]
  },
  {
   "cell_type": "markdown",
   "metadata": {},
   "source": [
    "N_LEVELS is the number of vertical leves, i.e. in pressure. N_PROF the number of profiles within the cycle, as we saw previously and N_PARAM is te number of paramters, 3 for this float: TEMP, PSAL and PRES"
   ]
  },
  {
   "cell_type": "markdown",
   "metadata": {},
   "source": [
    "Later we will explain N_CALIB and N_HISTORY"
   ]
  },
  {
   "cell_type": "markdown",
   "metadata": {},
   "source": [
    "## Meta data\n",
    "There is a lof of additional meta information in the `<FloatWmoID>_meta.nc` file"
   ]
  },
  {
   "cell_type": "code",
   "execution_count": 39,
   "metadata": {},
   "outputs": [],
   "source": [
    "Mdata = xr.open_dataset('./Data/6901254/6901254_meta.nc')"
   ]
  },
  {
   "cell_type": "markdown",
   "metadata": {},
   "source": [
    "Always we have the basic information than appers in all the netcdf files of an Argo float:"
   ]
  },
  {
   "cell_type": "code",
   "execution_count": 40,
   "metadata": {},
   "outputs": [
    {
     "name": "stdout",
     "output_type": "stream",
     "text": [
      "The Float unique identifier (PLATFORM_NUMBER) is 6901254 \n",
      "The Data centre in charge of float real-time processing (DATA_CENTRE) is IF\n",
      "The Program under which the float was deployed (PROJECT_NAME) is ARGO SPAIN                                                      \n",
      "The Name of the principal investigator (PI_NAME) is Pedro Velez                                                     \n"
     ]
    }
   ],
   "source": [
    "for variable in ['PLATFORM_NUMBER','DATA_CENTRE','PROJECT_NAME','PI_NAME']:\n",
    "   print(f\"The {Mdata.data_vars[variable].long_name} ({variable}) is {Mdata.data_vars[variable].values.astype(str)}\")"
   ]
  },
  {
   "cell_type": "markdown",
   "metadata": {},
   "source": [
    "and some examples of addtional information"
   ]
  },
  {
   "cell_type": "code",
   "execution_count": 41,
   "metadata": {},
   "outputs": [
    {
     "name": "stdout",
     "output_type": "stream",
     "text": [
      "The Firmware version for the float (FIRMWARE_VERSION) is n/a                             \n",
      "The Type of battery packs in the float (BATTERY_TYPE) is LITHIUM                                                         \n",
      "The Identifier of the deployment platform (DEPLOYMENT_PLATFORM) is ANGELES ALVARI?O                \n",
      "The Name of configuration parameter (CONFIG_PARAMETER_NAME) is ['CONFIG_CycleTime_hours                                                                                                          '\n",
      " 'CONFIG_ParkPressure_dbar                                                                                                        '\n",
      " 'CONFIG_ProfilePressure_dbar                                                                                                     '\n",
      " 'CONFIG_DescentToParkPresSamplingTime_seconds                                                                                    '\n",
      " 'CONFIG_Direction_NUMBER                                                                                                         ']\n",
      "The Serial number of the sensor (SENSOR_SERIAL_NO) is ['n/a             ' 'n/a             ' 'n/a             ']\n"
     ]
    }
   ],
   "source": [
    "for variable in ['FIRMWARE_VERSION','BATTERY_TYPE','DEPLOYMENT_PLATFORM','CONFIG_PARAMETER_NAME','SENSOR_SERIAL_NO']:\n",
    "   print(f\"The {Mdata.data_vars[variable].long_name} ({variable}) is {Mdata.data_vars[variable].values.astype(str)}\")"
   ]
  },
  {
   "cell_type": "markdown",
   "metadata": {},
   "source": [
    "The full descritpion of variables is in the **Argo user's Manual**"
   ]
  },
  {
   "cell_type": "code",
   "execution_count": null,
   "metadata": {},
   "outputs": [],
   "source": []
  },
  {
   "cell_type": "markdown",
   "metadata": {},
   "source": [
    "\n",
    "```{toctree}\n",
    ":hidden:\n",
    ":titlesonly:\n",
    "\n",
    "\n",
    "L21_ArgoDatabyFloat_Prof\n",
    "L22_ArgoDatabyFloat_Traj\n",
    "L23_ArgoDatabyFloat_ArgoPy\n",
    "```\n"
   ]
  }
 ],
 "metadata": {
  "kernelspec": {
   "display_name": "Python 3",
   "language": "python",
   "name": "python3"
  },
  "language_info": {
   "codemirror_mode": {
    "name": "ipython",
    "version": 3
   },
   "file_extension": ".py",
   "mimetype": "text/x-python",
   "name": "python",
   "nbconvert_exporter": "python",
   "pygments_lexer": "ipython3",
   "version": "3.8.3"
  }
 },
 "nbformat": 4,
 "nbformat_minor": 4
}