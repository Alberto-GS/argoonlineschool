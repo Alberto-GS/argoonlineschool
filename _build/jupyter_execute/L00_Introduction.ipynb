{
 "cells": [
  {
   "cell_type": "markdown",
   "metadata": {},
   "source": [
    "<img src=\"https://raw.githubusercontent.com/euroargodev/argoonlineschool/master/images/logoAoS.png\" alt=\"argopy logo\" width=\"100\"/>\n",
    "\n",
    "# Argo Online School\n",
    "\n",
    "The Argo Online school is a set of videos and hands-on jupyter notebooks to describe the minimum requiremets to use, and understand, the Argo data. Here you can find find the jupyter notebooks that are part of the Argo Online school. These notebooks use, mainly, [the Argo data python library](https://github.com/euroargodev/argopy), and cover the following lessons:\n",
    "\n",
    "1. Introduction to the Argo program\n",
    "2. Basics Of netCDF\n",
    "3. The Basics Of the Argo Data System\n",
    "  * Argo Data by float\n",
    "  * Argo Data by date\n",
    "4. Data in real time and calibrated\n",
    "\n",
    "## Usage\n",
    "You can access the content as a [JubyterBook](https://euroargodev.github.io/argoonlineschool), or download them and use in your local machine. In that case, you should create a python enviroment to use these notebooks. To create, and activate, the enviroment AOS [Argo Online School]:\n",
    "\n",
    "```\n",
    "conda env create -f environment.yml\n",
    "conda activate AOS\n",
    "```\n",
    "\n",
    "This enviroment already includes argopy stable version.\n",
    "\n",
    "## Data\n",
    "The Data in the *./Data* folder is used for the examples. Alternatively you can download it from:\n",
    "\n",
    "Daily NOAA OI SST V2 High Resolution Dataset for 2009:\n",
    "\n",
    "`! wget ftp://ftp2.psl.noaa.gov/Datasets/noaa.oisst.v2.highres/sst.day.mean.2019.nc`\n",
    "\n",
    "Data from float 6900772\n",
    "\n",
    "`wget ftp://ftp.ifremer.fr/ifremer/argo/dac/coriolis/6901254/*`\n",
    "\n",
    "Data in the north Atlantic for the 11th November 2019\n",
    "\n",
    "`! wget ftp://ftp.ifremer.fr/ifremer/argo//geo/indian_ocean/2019/11/20191111_prof.nc`\n",
    "\n",
    "## Further reading\n",
    "\n",
    "As a very useful first aproach to python, you can use [An Introduction to Earth and Environmental Data Science](https://earth-env-data-science.github.io/intro) and [Research computing in earth Sciences](https://rabernat.github.io/research_computing/) developed by [Ryan Abernathey](https://ocean-transport.github.io/) and Kerry Key.\n",
    "\n",
    "For the full description of the formats and files produced by the Argo Data Assembly Centres (DACs), see the [Argo user’s manual](https://archimer.ifremer.fr/doc/00187/29825/), the [Argo Quality Control Manual for CTD and Trajectory Data](https://archimer.ifremer.fr/doc/00228/33951/) or the [The Argo data management handbook](http://www.argodatamgt.org/content/download/340/2645/file/argo_data_management_handbook.pdf)\n",
    "\n",
    "More information can be found in the [Argo Stereing Team web page](http://www.argo.ucsd.edu/) or the [Argo Data Management team documentation](http://www.argodatamgt.org/Documentation)\n"
   ]
  },
  {
   "cell_type": "code",
   "execution_count": null,
   "metadata": {},
   "outputs": [],
   "source": []
  },
  {
   "cell_type": "markdown",
   "metadata": {},
   "source": [
    "\n",
    "```{toctree}\n",
    ":hidden:\n",
    ":titlesonly:\n",
    "\n",
    "\n",
    "L10_TheArgoProgram\n",
    "L20_ArgoDatabyFloat\n",
    "L30_ArgoDatabyDate\n",
    "L40_RTQualityControl\n",
    "L50_AdjustedData\n",
    "```\n"
   ]
  }
 ],
 "metadata": {
  "kernelspec": {
   "display_name": "Python 3",
   "language": "python",
   "name": "python3"
  },
  "language_info": {
   "codemirror_mode": {
    "name": "ipython",
    "version": 3
   },
   "file_extension": ".py",
   "mimetype": "text/x-python",
   "name": "python",
   "nbconvert_exporter": "python",
   "pygments_lexer": "ipython3",
   "version": "3.8.3"
  }
 },
 "nbformat": 4,
 "nbformat_minor": 4
}